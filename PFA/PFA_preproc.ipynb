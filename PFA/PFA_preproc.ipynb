{
 "cells": [
  {
   "metadata": {},
   "cell_type": "code",
   "source": "%pip install pandas numpy tqdm scikit-learn",
   "id": "e13f41cfdda586c8",
   "outputs": [],
   "execution_count": null
  },
  {
   "cell_type": "code",
   "id": "initial_id",
   "metadata": {
    "collapsed": true
   },
   "source": [
    "import pandas as pd\n",
    "import scipy.sparse as sp\n",
    "import numpy as np\n",
    "import sys\n",
    "from tqdm import tqdm\n",
    "from sklearn.linear_model import LogisticRegression\n",
    "from sklearn.metrics import log_loss, roc_auc_score, accuracy_score"
   ],
   "outputs": [],
   "execution_count": null
  },
  {
   "metadata": {},
   "cell_type": "code",
   "source": "df = pd.read_csv('./Data/23-24-problem_logs.csv')",
   "id": "866dde1c8af69e07",
   "outputs": [],
   "execution_count": null
  },
  {
   "metadata": {},
   "cell_type": "code",
   "source": "df.sort_values(by=['user_xid','skill_id','start_time'], inplace=True)",
   "id": "a35afccc52691a77",
   "outputs": [],
   "execution_count": null
  },
  {
   "metadata": {},
   "cell_type": "code",
   "source": [
    "wins = []\n",
    "fails = []\n",
    "for name, group in tqdm(df.groupby(by=['user_xid', 'skill_id'])):\n",
    "    w = 0\n",
    "    f = 0\n",
    "    for idx, row in group.iterrows():\n",
    "        wins.append(w)\n",
    "        fails.append(f)\n",
    "        if row['discrete_score'] == 1:\n",
    "            w += 1\n",
    "        else:\n",
    "            f += 1\n",
    "             \n",
    "    "
   ],
   "id": "844bdb8d19ae46fb",
   "outputs": [],
   "execution_count": null
  },
  {
   "metadata": {},
   "cell_type": "code",
   "source": [
    "df['wins'] = wins\n",
    "df['fails'] = fails"
   ],
   "id": "4ed8995946ca0eaf",
   "outputs": [],
   "execution_count": null
  },
  {
   "metadata": {},
   "cell_type": "code",
   "source": [
    "skills = np.sort(df.skill_id.unique())\n",
    "n_s = len(skills)"
   ],
   "id": "8c6441412e4c8cfc",
   "outputs": [],
   "execution_count": null
  },
  {
   "metadata": {},
   "cell_type": "code",
   "source": [
    "res_arr = sp.dok_array((df.shape[0], 3*n_s))\n",
    "i = 0\n",
    "for idx, row in tqdm(df.iterrows()):\n",
    "    #user_idx = np.where(users == row['user_xid'])[0][0]\n",
    "    skill_idx = np.where(skills == row['skill_id'])[0][0]\n",
    "    # res_arr[i,user_idx] = 1\n",
    "    # res_arr[i,problem_idx] = 1\n",
    "    res_arr[i,skill_idx] = 1\n",
    "    res_arr[i,n_s+skill_idx] = row['wins']\n",
    "    res_arr[i,2*n_s+skill_idx] = row['fails']\n",
    "    i += 1"
   ],
   "id": "811635c053c82c44",
   "outputs": [],
   "execution_count": null
  },
  {
   "metadata": {},
   "cell_type": "code",
   "source": [
    "res_arr_coo = res_arr.tocoo()\n",
    "y = df.discrete_score.to_numpy(copy=True)\n",
    "fn = './Data/23-24-problem_logs'\n",
    "fn_X = fn + '_X.npz'\n",
    "fn_y = fn + '_y.npy'\n",
    "sp.save_npz(fn_X, res_arr_coo)\n",
    "np.save(fn_y, y)"
   ],
   "id": "53c30738e63fc351",
   "outputs": [],
   "execution_count": null
  },
  {
   "metadata": {},
   "cell_type": "code",
   "source": "model = LogisticRegression(penalty=None, solver='lbfgs', max_iter=10**4)",
   "id": "47c5042be96fbed7",
   "outputs": [],
   "execution_count": null
  },
  {
   "metadata": {},
   "cell_type": "code",
   "source": "model.fit(res_arr_coo,y)",
   "id": "ba801d646d5dd02f",
   "outputs": [],
   "execution_count": null
  },
  {
   "metadata": {},
   "cell_type": "code",
   "source": "y_pred = model.predict_proba(res_arr_coo)[:,1]",
   "id": "1871476371857264",
   "outputs": [],
   "execution_count": null
  },
  {
   "metadata": {},
   "cell_type": "code",
   "source": "log_loss(y,y_pred)",
   "id": "db035485ad644803",
   "outputs": [],
   "execution_count": null
  },
  {
   "metadata": {},
   "cell_type": "code",
   "source": "roc_auc_score(y,y_pred)",
   "id": "2cc1425c66d870b8",
   "outputs": [],
   "execution_count": null
  }
 ],
 "metadata": {
  "kernelspec": {
   "display_name": "Python 3",
   "language": "python",
   "name": "python3"
  },
  "language_info": {
   "codemirror_mode": {
    "name": "ipython",
    "version": 2
   },
   "file_extension": ".py",
   "mimetype": "text/x-python",
   "name": "python",
   "nbconvert_exporter": "python",
   "pygments_lexer": "ipython2",
   "version": "2.7.6"
  }
 },
 "nbformat": 4,
 "nbformat_minor": 5
}
