{
 "cells": [
  {
   "metadata": {
    "ExecuteTime": {
     "end_time": "2024-09-24T21:24:53.429398Z",
     "start_time": "2024-09-24T21:24:45.728314Z"
    }
   },
   "cell_type": "code",
   "source": "%pip install pandas numpy tqdm scikit-learn",
   "id": "e13f41cfdda586c8",
   "execution_count": 18,
   "outputs": []
  },
  {
   "cell_type": "code",
   "id": "initial_id",
   "metadata": {
    "collapsed": true,
    "ExecuteTime": {
     "end_time": "2024-09-24T21:24:54.716633Z",
     "start_time": "2024-09-24T21:24:54.594434Z"
    }
   },
   "source": [
    "import pandas as pd\n",
    "import scipy.sparse as sp\n",
    "import numpy as np\n",
    "import sys\n",
    "from tqdm import tqdm\n",
    "from sklearn.linear_model import LogisticRegression\n",
    "from sklearn.metrics import log_loss, roc_auc_score, accuracy_score"
   ],
   "execution_count": 19,
   "outputs": []
  },
  {
   "metadata": {
    "ExecuteTime": {
     "end_time": "2024-09-24T20:36:28.023186Z",
     "start_time": "2024-09-24T20:36:08.998581Z"
    }
   },
   "cell_type": "code",
   "source": "df = pd.read_csv('./Data/23-24-problem_logs.csv')",
   "id": "866dde1c8af69e07",
   "execution_count": 3,
   "outputs": []
  },
  {
   "metadata": {
    "ExecuteTime": {
     "end_time": "2024-09-24T20:38:45.031091Z",
     "start_time": "2024-09-24T20:38:05.453524Z"
    }
   },
   "cell_type": "code",
   "source": "df.sort_values(by=['user_xid','skill_id','start_time'], inplace=True)",
   "id": "a35afccc52691a77",
   "execution_count": 6,
   "outputs": []
  },
  {
   "metadata": {
    "ExecuteTime": {
     "end_time": "2024-09-24T20:48:35.441534Z",
     "start_time": "2024-09-24T20:38:45.033080Z"
    }
   },
   "cell_type": "code",
   "source": [
    "wins = []\n",
    "fails = []\n",
    "for name, group in tqdm(df.groupby(by=['user_xid', 'skill_id'])):\n",
    "    w = 0\n",
    "    f = 0\n",
    "    for idx, row in group.iterrows():\n",
    "        wins.append(w)\n",
    "        fails.append(f)\n",
    "        if row['discrete_score'] == 1:\n",
    "            w += 1\n",
    "        else:\n",
    "            f += 1\n",
    "             \n",
    "    "
   ],
   "id": "844bdb8d19ae46fb",
   "execution_count": 7,
   "outputs": []
  },
  {
   "metadata": {
    "ExecuteTime": {
     "end_time": "2024-09-24T20:48:39.418169Z",
     "start_time": "2024-09-24T20:48:35.443621Z"
    }
   },
   "cell_type": "code",
   "source": [
    "df['wins'] = wins\n",
    "df['fails'] = fails"
   ],
   "id": "4ed8995946ca0eaf",
   "execution_count": 8,
   "outputs": []
  },
  {
   "metadata": {
    "ExecuteTime": {
     "end_time": "2024-09-24T20:48:52.582531Z",
     "start_time": "2024-09-24T20:48:52.522285Z"
    }
   },
   "cell_type": "code",
   "source": [
    "skills = np.sort(df.skill_id.unique())\n",
    "n_s = len(skills)"
   ],
   "id": "8c6441412e4c8cfc",
   "execution_count": 10,
   "outputs": []
  },
  {
   "metadata": {
    "ExecuteTime": {
     "end_time": "2024-09-24T21:10:21.891951Z",
     "start_time": "2024-09-24T20:48:55.478807Z"
    }
   },
   "cell_type": "code",
   "source": [
    "res_arr = sp.dok_array((df.shape[0], 3*n_s))\n",
    "i = 0\n",
    "for idx, row in tqdm(df.iterrows()):\n",
    "    #user_idx = np.where(users == row['user_xid'])[0][0]\n",
    "    skill_idx = np.where(skills == row['skill_id'])[0][0]\n",
    "    # res_arr[i,user_idx] = 1\n",
    "    # res_arr[i,problem_idx] = 1\n",
    "    res_arr[i,skill_idx] = 1\n",
    "    res_arr[i,n_s+skill_idx] = row['wins']\n",
    "    res_arr[i,2*n_s+skill_idx] = row['fails']\n",
    "    i += 1"
   ],
   "id": "811635c053c82c44",
   "execution_count": 11,
   "outputs": []
  },
  {
   "metadata": {
    "ExecuteTime": {
     "end_time": "2024-09-24T21:22:52.193934Z",
     "start_time": "2024-09-24T21:22:24.350805Z"
    }
   },
   "cell_type": "code",
   "source": [
    "res_arr_coo = res_arr.tocoo()\n",
    "y = df.discrete_score.to_numpy(copy=True)\n",
    "fn = './Data/23-24-problem_logs'\n",
    "fn_X = fn + '_X.npz'\n",
    "fn_y = fn + '_y.npy'\n",
    "sp.save_npz(fn_X, res_arr_coo)\n",
    "np.save(fn_y, y)"
   ],
   "id": "53c30738e63fc351",
   "execution_count": 13,
   "outputs": []
  },
  {
   "metadata": {
    "ExecuteTime": {
     "end_time": "2024-09-24T21:50:22.330767Z",
     "start_time": "2024-09-24T21:50:22.326554Z"
    }
   },
   "cell_type": "code",
   "source": "model = LogisticRegression(penalty=None, solver='lbfgs', max_iter=10**4)",
   "id": "47c5042be96fbed7",
   "execution_count": 32,
   "outputs": []
  },
  {
   "metadata": {
    "ExecuteTime": {
     "end_time": "2024-09-24T23:08:18.369701Z",
     "start_time": "2024-09-24T21:50:22.372068Z"
    }
   },
   "cell_type": "code",
   "source": "model.fit(res_arr_coo,y)",
   "id": "ba801d646d5dd02f",
   "execution_count": 33,
   "outputs": []
  },
  {
   "metadata": {
    "ExecuteTime": {
     "end_time": "2024-09-24T23:08:21.319377Z",
     "start_time": "2024-09-24T23:08:18.388051Z"
    }
   },
   "cell_type": "code",
   "source": "y_pred = model.predict_proba(res_arr_coo)[:,1]",
   "id": "1871476371857264",
   "execution_count": 34,
   "outputs": []
  },
  {
   "metadata": {
    "ExecuteTime": {
     "end_time": "2024-09-24T23:08:24.281820Z",
     "start_time": "2024-09-24T23:08:21.321774Z"
    }
   },
   "cell_type": "code",
   "source": "log_loss(y,y_pred)",
   "id": "db035485ad644803",
   "execution_count": 35,
   "outputs": []
  },
  {
   "metadata": {
    "ExecuteTime": {
     "end_time": "2024-09-24T23:08:28.475039Z",
     "start_time": "2024-09-24T23:08:24.289781Z"
    }
   },
   "cell_type": "code",
   "source": "roc_auc_score(y,y_pred)",
   "id": "2cc1425c66d870b8",
   "execution_count": 36,
   "outputs": []
  }
 ],
 "metadata": {
  "kernelspec": {
   "display_name": "Python 3",
   "language": "python",
   "name": "python3"
  },
  "language_info": {
   "codemirror_mode": {
    "name": "ipython",
    "version": 2
   },
   "file_extension": ".py",
   "mimetype": "text/x-python",
   "name": "python",
   "nbconvert_exporter": "python",
   "pygments_lexer": "ipython2",
   "version": "2.7.6"
  }
 },
 "nbformat": 4,
 "nbformat_minor": 5
}
