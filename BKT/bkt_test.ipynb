{
 "cells": [
  {
   "cell_type": "code",
   "id": "initial_id",
   "metadata": {
    "collapsed": true
   },
   "source": [
    "import pandas as pd\n",
    "import numpy as np\n",
    "from tqdm import tqdm\n",
    "from hmmlearn.hmm import CategoricalHMM\n",
    "from sklearn.metrics import log_loss, roc_auc_score"
   ],
   "outputs": [],
   "execution_count": null
  },
  {
   "metadata": {},
   "cell_type": "code",
   "source": "data = pd.read_csv(\"../Data/sample.csv\")",
   "id": "83ea796ddd40a36f",
   "outputs": [],
   "execution_count": null
  },
  {
   "metadata": {},
   "cell_type": "code",
   "source": "data = data.sort_values(by=['user_xid', 'skill_id', 'start_time'])",
   "id": "7fda3c20407009bb",
   "outputs": [],
   "execution_count": null
  },
  {
   "metadata": {},
   "cell_type": "code",
   "source": [
    "grouped = data.groupby(by=['skill_id', 'user_xid'])\n",
    "grouped.head()"
   ],
   "id": "29da09a7c5070a0d",
   "outputs": [],
   "execution_count": null
  },
  {
   "metadata": {},
   "cell_type": "code",
   "source": [
    "# f1 = open(\"group.txt\", \"w\")\n",
    "\n",
    "curr_skill = 1\n",
    "skill_dict = {}\n",
    "value_dict = {\"seq\": [], \"lengths\": []}\n",
    "\n",
    "# count = 0\n",
    "for value, group in tqdm(grouped):\n",
    "    # if count == 100:\n",
    "    #     break    \n",
    "    # border = '===============================================\\n'\n",
    "    # group_string = str(group['discrete_score'])\n",
    "    # write_value = border + 'skill_id: ' + str(value[0]) + '\\n' + 'user_xid: ' + str(value[1]) + '\\n' + group_string + '\\n\\n'\n",
    "    # f1.write(write_value)\n",
    "    \n",
    "    if value[0] != curr_skill:\n",
    "        value_dict['seq'] = np.concatenate(value_dict['seq']).reshape(-1,1)\n",
    "        skill_dict[curr_skill] = value_dict\n",
    "        value_dict = {\"seq\": [], \"lengths\": []}\n",
    "    \n",
    "    curr_skill = value[0]\n",
    "    value_dict['seq'].append(group.discrete_score.to_numpy())\n",
    "    value_dict['lengths'].append(group.shape[0])\n",
    "    # count += 1\n",
    "value_dict['seq'] = np.concatenate(value_dict['seq']).reshape(-1,1).astype(int)\n",
    "skill_dict[curr_skill] = value_dict\n",
    "    \n",
    "# f1.close()\n",
    "    "
   ],
   "id": "23c15e4fd59fd004",
   "outputs": [],
   "execution_count": null
  },
  {
   "metadata": {},
   "cell_type": "code",
   "source": [
    "start_prob = np.array([0.5, 0.5])\n",
    "trans_prob = np.array([[0.7, 0.3],[0.3, 0.7]])\n",
    "emission_prob = np.array([[0.8, 0.2],[0.2, 0.8]])\n",
    "\n",
    "model = CategoricalHMM(n_components=2, init_params=\"\", params=\"st\", startprob_prior=start_prob, transmat_prior=trans_prob, emissionprob_prior=emission_prob, n_iter=100, verbose=True)"
   ],
   "id": "40886208085e4fc3",
   "outputs": [],
   "execution_count": null
  },
  {
   "metadata": {},
   "cell_type": "code",
   "source": [
    "count = 0\n",
    "for skill in skill_dict:\n",
    "    if count > 10:\n",
    "        break    \n",
    "        \n",
    "    X = skill_dict[skill]['seq']\n",
    "    lengths = skill_dict[skill]['lengths']\n",
    "    \n",
    "    model.fit(X, lengths)\n",
    "    \n",
    "    print(\"Finished model training. Printing final statistics...\")\n",
    "\n",
    "    # print(\"Finished model training. Printing final statistics...\")\n",
    "    # y_score = model.predict_proba(X)[:, 1]\n",
    "    # \n",
    "    # loss = log_loss(X, y_score)     # logistical loss\n",
    "    # auc = roc_auc_score(X, y_score)\n",
    "    # \n",
    "    # print(f\"Loss: {loss}\")\n",
    "    # print(f\"AUC:  {auc}\")\n",
    "    \n",
    "    count += 1"
   ],
   "id": "e41d49bcf6995ad",
   "outputs": [],
   "execution_count": null
  }
 ],
 "metadata": {
  "kernelspec": {
   "display_name": "Python 3",
   "language": "python",
   "name": "python3"
  },
  "language_info": {
   "codemirror_mode": {
    "name": "ipython",
    "version": 2
   },
   "file_extension": ".py",
   "mimetype": "text/x-python",
   "name": "python",
   "nbconvert_exporter": "python",
   "pygments_lexer": "ipython2",
   "version": "2.7.6"
  }
 },
 "nbformat": 4,
 "nbformat_minor": 5
}
