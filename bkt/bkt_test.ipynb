{
 "cells": [
  {
   "cell_type": "code",
   "id": "initial_id",
   "metadata": {
    "collapsed": true,
    "ExecuteTime": {
     "end_time": "2024-10-01T00:17:10.425581Z",
     "start_time": "2024-10-01T00:17:09.372815Z"
    }
   },
   "source": [
    "import pandas as pd\n",
    "import numpy as np\n",
    "from tqdm import tqdm\n",
    "from hmmlearn.hmm import CategoricalHMM\n",
    "from sklearn.metrics import log_loss, roc_auc_score"
   ],
   "outputs": [],
   "execution_count": 1
  },
  {
   "metadata": {
    "ExecuteTime": {
     "end_time": "2024-10-01T00:17:31.816394Z",
     "start_time": "2024-10-01T00:17:20.941616Z"
    }
   },
   "cell_type": "code",
   "source": "data = pd.read_csv(\"../Data/sample.csv\")",
   "id": "83ea796ddd40a36f",
   "outputs": [],
   "execution_count": 2
  },
  {
   "metadata": {
    "ExecuteTime": {
     "end_time": "2024-10-01T00:18:24.841332Z",
     "start_time": "2024-10-01T00:17:53.596759Z"
    }
   },
   "cell_type": "code",
   "source": "data = data.sort_values(by=['user_xid', 'skill_id', 'start_time'])",
   "id": "7fda3c20407009bb",
   "outputs": [],
   "execution_count": 3
  },
  {
   "metadata": {
    "ExecuteTime": {
     "end_time": "2024-10-01T00:18:33.927791Z",
     "start_time": "2024-10-01T00:18:31.738676Z"
    }
   },
   "cell_type": "code",
   "source": [
    "grouped = data.groupby(by=['skill_id', 'user_xid'])\n",
    "grouped.head()"
   ],
   "id": "29da09a7c5070a0d",
   "outputs": [
    {
     "data": {
      "text/plain": [
       "         problem_log_id  user_xid  old_problem_id  skill_id  \\\n",
       "7419762       183179369        20         1507769       237   \n",
       "7419910       183179918        20         1842305       237   \n",
       "7419562       183180043        20         1842306       237   \n",
       "2573312       190454857        20         2096006      1126   \n",
       "2573437       190454862        20         2095985      1126   \n",
       "...                 ...       ...             ...       ...   \n",
       "2357043       190621531   4106992         1805182       372   \n",
       "2357044       190621531   4106992         1805182       372   \n",
       "2357045       190621531   4106992         1805182       372   \n",
       "2357046       190621531   4106992         1805182       372   \n",
       "2357047       190621531   4106992         1805182       372   \n",
       "\n",
       "                            start_time  discrete_score  attempt_count  \\\n",
       "7419762  2024-01-12 10:46:49.603 -0500               1              1   \n",
       "7419910  2024-01-12 10:51:02.261 -0500               0              2   \n",
       "7419562  2024-01-12 10:51:57.322 -0500               1              1   \n",
       "2573312  2024-05-21 09:30:43.017 -0400               1              1   \n",
       "2573437  2024-05-21 09:30:50.859 -0400               0              4   \n",
       "...                                ...             ...            ...   \n",
       "2357043  2024-05-31 15:54:32.828 -0400               1              1   \n",
       "2357044  2024-05-31 15:54:32.828 -0400               1              1   \n",
       "2357045  2024-05-31 15:54:32.828 -0400               1              1   \n",
       "2357046  2024-05-31 15:54:32.828 -0400               1              1   \n",
       "2357047  2024-05-31 15:54:32.828 -0400               1              1   \n",
       "\n",
       "         hint_count  saw_answer  \n",
       "7419762           0       False  \n",
       "7419910           0       False  \n",
       "7419562           0       False  \n",
       "2573312           0       False  \n",
       "2573437           0        True  \n",
       "...             ...         ...  \n",
       "2357043           0       False  \n",
       "2357044           0       False  \n",
       "2357045           0       False  \n",
       "2357046           0       False  \n",
       "2357047           0       False  \n",
       "\n",
       "[4732662 rows x 9 columns]"
      ],
      "text/html": [
       "<div>\n",
       "<style scoped>\n",
       "    .dataframe tbody tr th:only-of-type {\n",
       "        vertical-align: middle;\n",
       "    }\n",
       "\n",
       "    .dataframe tbody tr th {\n",
       "        vertical-align: top;\n",
       "    }\n",
       "\n",
       "    .dataframe thead th {\n",
       "        text-align: right;\n",
       "    }\n",
       "</style>\n",
       "<table border=\"1\" class=\"dataframe\">\n",
       "  <thead>\n",
       "    <tr style=\"text-align: right;\">\n",
       "      <th></th>\n",
       "      <th>problem_log_id</th>\n",
       "      <th>user_xid</th>\n",
       "      <th>old_problem_id</th>\n",
       "      <th>skill_id</th>\n",
       "      <th>start_time</th>\n",
       "      <th>discrete_score</th>\n",
       "      <th>attempt_count</th>\n",
       "      <th>hint_count</th>\n",
       "      <th>saw_answer</th>\n",
       "    </tr>\n",
       "  </thead>\n",
       "  <tbody>\n",
       "    <tr>\n",
       "      <th>7419762</th>\n",
       "      <td>183179369</td>\n",
       "      <td>20</td>\n",
       "      <td>1507769</td>\n",
       "      <td>237</td>\n",
       "      <td>2024-01-12 10:46:49.603 -0500</td>\n",
       "      <td>1</td>\n",
       "      <td>1</td>\n",
       "      <td>0</td>\n",
       "      <td>False</td>\n",
       "    </tr>\n",
       "    <tr>\n",
       "      <th>7419910</th>\n",
       "      <td>183179918</td>\n",
       "      <td>20</td>\n",
       "      <td>1842305</td>\n",
       "      <td>237</td>\n",
       "      <td>2024-01-12 10:51:02.261 -0500</td>\n",
       "      <td>0</td>\n",
       "      <td>2</td>\n",
       "      <td>0</td>\n",
       "      <td>False</td>\n",
       "    </tr>\n",
       "    <tr>\n",
       "      <th>7419562</th>\n",
       "      <td>183180043</td>\n",
       "      <td>20</td>\n",
       "      <td>1842306</td>\n",
       "      <td>237</td>\n",
       "      <td>2024-01-12 10:51:57.322 -0500</td>\n",
       "      <td>1</td>\n",
       "      <td>1</td>\n",
       "      <td>0</td>\n",
       "      <td>False</td>\n",
       "    </tr>\n",
       "    <tr>\n",
       "      <th>2573312</th>\n",
       "      <td>190454857</td>\n",
       "      <td>20</td>\n",
       "      <td>2096006</td>\n",
       "      <td>1126</td>\n",
       "      <td>2024-05-21 09:30:43.017 -0400</td>\n",
       "      <td>1</td>\n",
       "      <td>1</td>\n",
       "      <td>0</td>\n",
       "      <td>False</td>\n",
       "    </tr>\n",
       "    <tr>\n",
       "      <th>2573437</th>\n",
       "      <td>190454862</td>\n",
       "      <td>20</td>\n",
       "      <td>2095985</td>\n",
       "      <td>1126</td>\n",
       "      <td>2024-05-21 09:30:50.859 -0400</td>\n",
       "      <td>0</td>\n",
       "      <td>4</td>\n",
       "      <td>0</td>\n",
       "      <td>True</td>\n",
       "    </tr>\n",
       "    <tr>\n",
       "      <th>...</th>\n",
       "      <td>...</td>\n",
       "      <td>...</td>\n",
       "      <td>...</td>\n",
       "      <td>...</td>\n",
       "      <td>...</td>\n",
       "      <td>...</td>\n",
       "      <td>...</td>\n",
       "      <td>...</td>\n",
       "      <td>...</td>\n",
       "    </tr>\n",
       "    <tr>\n",
       "      <th>2357043</th>\n",
       "      <td>190621531</td>\n",
       "      <td>4106992</td>\n",
       "      <td>1805182</td>\n",
       "      <td>372</td>\n",
       "      <td>2024-05-31 15:54:32.828 -0400</td>\n",
       "      <td>1</td>\n",
       "      <td>1</td>\n",
       "      <td>0</td>\n",
       "      <td>False</td>\n",
       "    </tr>\n",
       "    <tr>\n",
       "      <th>2357044</th>\n",
       "      <td>190621531</td>\n",
       "      <td>4106992</td>\n",
       "      <td>1805182</td>\n",
       "      <td>372</td>\n",
       "      <td>2024-05-31 15:54:32.828 -0400</td>\n",
       "      <td>1</td>\n",
       "      <td>1</td>\n",
       "      <td>0</td>\n",
       "      <td>False</td>\n",
       "    </tr>\n",
       "    <tr>\n",
       "      <th>2357045</th>\n",
       "      <td>190621531</td>\n",
       "      <td>4106992</td>\n",
       "      <td>1805182</td>\n",
       "      <td>372</td>\n",
       "      <td>2024-05-31 15:54:32.828 -0400</td>\n",
       "      <td>1</td>\n",
       "      <td>1</td>\n",
       "      <td>0</td>\n",
       "      <td>False</td>\n",
       "    </tr>\n",
       "    <tr>\n",
       "      <th>2357046</th>\n",
       "      <td>190621531</td>\n",
       "      <td>4106992</td>\n",
       "      <td>1805182</td>\n",
       "      <td>372</td>\n",
       "      <td>2024-05-31 15:54:32.828 -0400</td>\n",
       "      <td>1</td>\n",
       "      <td>1</td>\n",
       "      <td>0</td>\n",
       "      <td>False</td>\n",
       "    </tr>\n",
       "    <tr>\n",
       "      <th>2357047</th>\n",
       "      <td>190621531</td>\n",
       "      <td>4106992</td>\n",
       "      <td>1805182</td>\n",
       "      <td>372</td>\n",
       "      <td>2024-05-31 15:54:32.828 -0400</td>\n",
       "      <td>1</td>\n",
       "      <td>1</td>\n",
       "      <td>0</td>\n",
       "      <td>False</td>\n",
       "    </tr>\n",
       "  </tbody>\n",
       "</table>\n",
       "<p>4732662 rows × 9 columns</p>\n",
       "</div>"
      ]
     },
     "execution_count": 4,
     "metadata": {},
     "output_type": "execute_result"
    }
   ],
   "execution_count": 4
  },
  {
   "metadata": {
    "ExecuteTime": {
     "end_time": "2024-10-01T00:20:32.954757Z",
     "start_time": "2024-10-01T00:19:44.182398Z"
    }
   },
   "cell_type": "code",
   "source": [
    "# f1 = open(\"group.txt\", \"w\")\n",
    "\n",
    "curr_skill = 1\n",
    "skill_dict = {}\n",
    "value_dict = {\"seq\": [], \"lengths\": []}\n",
    "\n",
    "# count = 0\n",
    "for value, group in tqdm(grouped):\n",
    "    # if count == 100:\n",
    "    #     break    \n",
    "    # border = '===============================================\\n'\n",
    "    # group_string = str(group['discrete_score'])\n",
    "    # write_value = border + 'skill_id: ' + str(value[0]) + '\\n' + 'user_xid: ' + str(value[1]) + '\\n' + group_string + '\\n\\n'\n",
    "    # f1.write(write_value)\n",
    "    \n",
    "    if value[0] != curr_skill:\n",
    "        value_dict['seq'] = np.concatenate(value_dict['seq']).reshape(-1,1)\n",
    "        skill_dict[curr_skill] = value_dict\n",
    "        value_dict = {\"seq\": [], \"lengths\": []}\n",
    "    \n",
    "    curr_skill = value[0]\n",
    "    value_dict['seq'].append(group.discrete_score.to_numpy())\n",
    "    value_dict['lengths'].append(group.shape[0])\n",
    "    # count += 1\n",
    "value_dict['seq'] = np.concatenate(value_dict['seq']).reshape(-1,1).astype(int)\n",
    "skill_dict[curr_skill] = value_dict\n",
    "    \n",
    "# f1.close()\n",
    "    "
   ],
   "id": "23c15e4fd59fd004",
   "outputs": [
    {
     "name": "stderr",
     "output_type": "stream",
     "text": [
      "100%|██████████| 1424943/1424943 [00:48<00:00, 29227.00it/s]\n"
     ]
    }
   ],
   "execution_count": 6
  },
  {
   "metadata": {
    "ExecuteTime": {
     "end_time": "2024-10-01T00:20:51.498764Z",
     "start_time": "2024-10-01T00:20:51.495476Z"
    }
   },
   "cell_type": "code",
   "source": [
    "start_prob = np.array([0.5, 0.5])\n",
    "trans_prob = np.array([[0.7, 0.3],[0.3, 0.7]])\n",
    "emission_prob = np.array([[0.8, 0.2],[0.2, 0.8]])\n",
    "\n",
    "model = CategoricalHMM(n_components=2, init_params=\"\", params=\"st\", startprob_prior=start_prob, transmat_prior=trans_prob, emissionprob_prior=emission_prob, n_iter=100, verbose=True)"
   ],
   "id": "40886208085e4fc3",
   "outputs": [],
   "execution_count": 7
  },
  {
   "metadata": {
    "ExecuteTime": {
     "end_time": "2024-10-01T00:21:14.478588Z",
     "start_time": "2024-10-01T00:21:12.097078Z"
    }
   },
   "cell_type": "code",
   "source": [
    "count = 0\n",
    "for skill in skill_dict:\n",
    "    if count > 10:\n",
    "        break    \n",
    "        \n",
    "    X = skill_dict[skill]['seq']\n",
    "    lengths = skill_dict[skill]['lengths']\n",
    "    \n",
    "    model.fit(X, lengths)\n",
    "    \n",
    "    print(\"Finished model training. Printing final statistics...\")\n",
    "\n",
    "    # print(\"Finished model training. Printing final statistics...\")\n",
    "    # y_score = model.predict_proba(X)[:, 1]\n",
    "    # \n",
    "    # loss = log_loss(X, y_score)     # logistical loss\n",
    "    # auc = roc_auc_score(X, y_score)\n",
    "    # \n",
    "    # print(f\"Loss: {loss}\")\n",
    "    # print(f\"AUC:  {auc}\")\n",
    "    \n",
    "    count += 1"
   ],
   "id": "e41d49bcf6995ad",
   "outputs": [
    {
     "name": "stderr",
     "output_type": "stream",
     "text": [
      "         1  -53607.64397657             +nan\n",
      "         2  -51991.86819913   +1615.77577744\n",
      "         3  -51991.86819913      +0.00000000\n",
      "         1  -12121.62174875             +nan\n",
      "         2  -12063.86109050     +57.76065825\n"
     ]
    },
    {
     "name": "stdout",
     "output_type": "stream",
     "text": [
      "Finished model training. Printing final statistics...\n"
     ]
    },
    {
     "name": "stderr",
     "output_type": "stream",
     "text": [
      "         3  -12063.86109050      -0.00000000\n",
      "         1   -5140.59507372             +nan\n",
      "         2   -5247.18695019    -106.59187647\n",
      "Model is not converging.  Current: -5247.186950194663 is not greater than -5140.595073724729. Delta is -106.5918764699336\n"
     ]
    },
    {
     "name": "stdout",
     "output_type": "stream",
     "text": [
      "Finished model training. Printing final statistics...\n",
      "Finished model training. Printing final statistics...\n"
     ]
    },
    {
     "name": "stderr",
     "output_type": "stream",
     "text": [
      "         1  -28795.91864888             +nan\n",
      "         2  -28005.93659953    +789.98204935\n",
      "         3  -28005.93659953      +0.00000000\n",
      "         1 -120700.03708442             +nan\n"
     ]
    },
    {
     "name": "stdout",
     "output_type": "stream",
     "text": [
      "Finished model training. Printing final statistics...\n"
     ]
    },
    {
     "name": "stderr",
     "output_type": "stream",
     "text": [
      "         2 -121773.66719123   -1073.63010681\n",
      "Model is not converging.  Current: -121773.66719123471 is not greater than -120700.03708442376. Delta is -1073.630106810946\n",
      "         1   -3673.61029572             +nan\n",
      "         2   -3695.22529867     -21.61500295\n",
      "Model is not converging.  Current: -3695.225298665934 is not greater than -3673.6102957176486. Delta is -21.615002948285564\n",
      "         1  -32645.49661961             +nan\n",
      "         2  -31498.60701373   +1146.88960588\n"
     ]
    },
    {
     "name": "stdout",
     "output_type": "stream",
     "text": [
      "Finished model training. Printing final statistics...\n",
      "Finished model training. Printing final statistics...\n"
     ]
    },
    {
     "name": "stderr",
     "output_type": "stream",
     "text": [
      "         3  -31498.60701373      -0.00000000\n",
      "         1   -6692.12890613             +nan\n",
      "         2   -7020.95944613    -328.83053999\n",
      "Model is not converging.  Current: -7020.959446126277 is not greater than -6692.128906132349. Delta is -328.83053999392814\n",
      "         1   -2793.16827097             +nan\n",
      "         2   -2723.49315352     +69.67511746\n",
      "         3   -2723.49315352      +0.00000000\n"
     ]
    },
    {
     "name": "stdout",
     "output_type": "stream",
     "text": [
      "Finished model training. Printing final statistics...\n",
      "Finished model training. Printing final statistics...\n",
      "Finished model training. Printing final statistics...\n"
     ]
    },
    {
     "name": "stderr",
     "output_type": "stream",
     "text": [
      "         1  -17870.16839530             +nan\n",
      "         2  -17801.26634468     +68.90205062\n",
      "         3  -17801.26634468      +0.00000000\n",
      "         1  -65724.30102213             +nan\n"
     ]
    },
    {
     "name": "stdout",
     "output_type": "stream",
     "text": [
      "Finished model training. Printing final statistics...\n"
     ]
    },
    {
     "name": "stderr",
     "output_type": "stream",
     "text": [
      "         2  -66792.08376627   -1067.78274414\n",
      "Model is not converging.  Current: -66792.08376627264 is not greater than -65724.30102213449. Delta is -1067.7827441381523\n"
     ]
    },
    {
     "name": "stdout",
     "output_type": "stream",
     "text": [
      "Finished model training. Printing final statistics...\n"
     ]
    }
   ],
   "execution_count": 9
  }
 ],
 "metadata": {
  "kernelspec": {
   "display_name": "Python 3",
   "language": "python",
   "name": "python3"
  },
  "language_info": {
   "codemirror_mode": {
    "name": "ipython",
    "version": 2
   },
   "file_extension": ".py",
   "mimetype": "text/x-python",
   "name": "python",
   "nbconvert_exporter": "python",
   "pygments_lexer": "ipython2",
   "version": "2.7.6"
  }
 },
 "nbformat": 4,
 "nbformat_minor": 5
}
