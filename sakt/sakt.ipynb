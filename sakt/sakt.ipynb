{
 "cells": [
  {
   "cell_type": "code",
   "id": "initial_id",
   "metadata": {
    "collapsed": true,
    "ExecuteTime": {
     "end_time": "2024-09-26T16:18:43.954193Z",
     "start_time": "2024-09-26T16:18:43.939492Z"
    }
   },
   "source": "from SAKT_model import SAKTModel",
   "outputs": [],
   "execution_count": 3
  },
  {
   "metadata": {
    "ExecuteTime": {
     "end_time": "2024-09-26T16:23:23.934966Z",
     "start_time": "2024-09-26T16:21:28.216975Z"
    }
   },
   "cell_type": "code",
   "source": [
    "file_path = \"../23-24-problem_logs.csv\"\n",
    "\n",
    "model = SAKTModel(file_path=file_path)"
   ],
   "id": "8b0e223db4d5ca13",
   "outputs": [
    {
     "ename": "AttributeError",
     "evalue": "'Mean' object has no attribute 'reset_states'",
     "output_type": "error",
     "traceback": [
      "\u001B[1;31m---------------------------------------------------------------------------\u001B[0m",
      "\u001B[1;31mAttributeError\u001B[0m                            Traceback (most recent call last)",
      "Cell \u001B[1;32mIn[5], line 14\u001B[0m\n\u001B[0;32m     11\u001B[0m \u001B[38;5;66;03m# Preprocess the data (this step is necessary before training)\u001B[39;00m\n\u001B[0;32m     12\u001B[0m model\u001B[38;5;241m.\u001B[39mpreprocess()\n\u001B[1;32m---> 14\u001B[0m model\u001B[38;5;241m.\u001B[39mfit()\n",
      "File \u001B[1;32mD:\\LongitudinalKnowledgeTracing24\\sakt\\SAKT_model.py:108\u001B[0m, in \u001B[0;36mSAKTModel.fit\u001B[1;34m(self, num_epochs)\u001B[0m\n\u001B[0;32m    105\u001B[0m train_accuracy \u001B[38;5;241m=\u001B[39m tf\u001B[38;5;241m.\u001B[39mkeras\u001B[38;5;241m.\u001B[39mmetrics\u001B[38;5;241m.\u001B[39mBinaryAccuracy(name\u001B[38;5;241m=\u001B[39m\u001B[38;5;124m'\u001B[39m\u001B[38;5;124mtrain_accuracy\u001B[39m\u001B[38;5;124m'\u001B[39m)\n\u001B[0;32m    107\u001B[0m \u001B[38;5;28;01mfor\u001B[39;00m epoch \u001B[38;5;129;01min\u001B[39;00m \u001B[38;5;28mrange\u001B[39m(num_epochs):\n\u001B[1;32m--> 108\u001B[0m     train_loss\u001B[38;5;241m.\u001B[39mreset_states()\n\u001B[0;32m    109\u001B[0m     train_auc\u001B[38;5;241m.\u001B[39mreset_states()\n\u001B[0;32m    110\u001B[0m     train_accuracy\u001B[38;5;241m.\u001B[39mreset_states()\n",
      "\u001B[1;31mAttributeError\u001B[0m: 'Mean' object has no attribute 'reset_states'"
     ]
    }
   ],
   "execution_count": 5
  },
  {
   "metadata": {},
   "cell_type": "code",
   "outputs": [],
   "execution_count": null,
   "source": "model.preprocess()",
   "id": "d46ce5659370186d"
  },
  {
   "metadata": {},
   "cell_type": "code",
   "outputs": [],
   "execution_count": null,
   "source": "model.fit()",
   "id": "456a3d2e72c90eab"
  },
  {
   "metadata": {},
   "cell_type": "code",
   "outputs": [],
   "execution_count": null,
   "source": "model.eval() b",
   "id": "da375f58a673f5d6"
  }
 ],
 "metadata": {
  "kernelspec": {
   "display_name": "Python 3",
   "language": "python",
   "name": "python3"
  },
  "language_info": {
   "codemirror_mode": {
    "name": "ipython",
    "version": 2
   },
   "file_extension": ".py",
   "mimetype": "text/x-python",
   "name": "python",
   "nbconvert_exporter": "python",
   "pygments_lexer": "ipython2",
   "version": "2.7.6"
  }
 },
 "nbformat": 4,
 "nbformat_minor": 5
}
