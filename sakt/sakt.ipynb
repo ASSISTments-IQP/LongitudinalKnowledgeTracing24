{
 "cells": [
  {
   "cell_type": "code",
   "execution_count": 1,
   "id": "initial_id",
   "metadata": {
    "ExecuteTime": {
     "end_time": "2024-09-26T16:18:43.954193Z",
     "start_time": "2024-09-26T16:18:43.939492Z"
    },
    "collapsed": true
   },
   "source": [
    "import pandas as pd\n",
    "from SAKT_model import SAKTModel"
   ],
   "outputs": []
  },
  {
   "cell_type": "code",
   "execution_count": 2,
   "id": "8b0e223db4d5ca13",
   "metadata": {
    "ExecuteTime": {
     "end_time": "2024-09-29T21:27:26.299365Z",
     "start_time": "2024-09-29T21:27:25.934426Z"
    }
   },
   "source": [
    "model = SAKTModel()\n",
    "df =  pd.read_csv(\"D:\\LongitudinalKnowledgeTracing24\\sakt\\data\\subset_50000_train.csv\")\n",
    "val_df = pd.read_csv(\"D:\\LongitudinalKnowledgeTracing24\\sakt\\data\\subset_25000_test.csv\")\n"
   ],
   "outputs": []
  },
  {
   "cell_type": "code",
   "execution_count": 3,
   "id": "d46ce5659370186d",
   "metadata": {},
   "source": [
    "model.fit(df, num_epochs=1)\n"
   ],
   "outputs": []
  },
  {
   "cell_type": "code",
   "execution_count": 4,
   "id": "456a3d2e72c90eab",
   "metadata": {},
   "source": [
    "model.eval(val_df)"
   ],
   "outputs": []
  },
  {
   "cell_type": "code",
   "execution_count": null,
   "id": "da375f58a673f5d6",
   "metadata": {},
   "source": [],
   "outputs": []
  }
 ],
 "metadata": {
  "kernelspec": {
   "display_name": "Python 3",
   "language": "python",
   "name": "python3"
  },
  "language_info": {
   "codemirror_mode": {
    "name": "ipython",
    "version": 3
   },
   "file_extension": ".py",
   "mimetype": "text/x-python",
   "name": "python",
   "nbconvert_exporter": "python",
   "pygments_lexer": "ipython3",
   "version": "3.12.2"
  }
 },
 "nbformat": 4,
 "nbformat_minor": 5
}
