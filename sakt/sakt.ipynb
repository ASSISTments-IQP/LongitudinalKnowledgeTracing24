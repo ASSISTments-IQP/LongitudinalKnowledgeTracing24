{
 "cells": [
  {
   "cell_type": "code",
   "execution_count": 1,
   "id": "initial_id",
   "metadata": {
    "ExecuteTime": {
     "end_time": "2024-09-26T16:18:43.954193Z",
     "start_time": "2024-09-26T16:18:43.939492Z"
    },
    "collapsed": true
   },
   "outputs": [],
   "source": [
    "import pandas as pd\n",
    "from SAKT_model import SAKTModel"
   ]
  },
  {
   "cell_type": "code",
   "execution_count": 2,
   "id": "8b0e223db4d5ca13",
   "metadata": {
    "ExecuteTime": {
     "end_time": "2024-09-29T21:27:26.299365Z",
     "start_time": "2024-09-29T21:27:25.934426Z"
    }
   },
   "outputs": [
    {
     "name": "stdout",
     "output_type": "stream",
     "text": [
      "Using device: /CPU:0\n"
     ]
    },
    {
     "name": "stderr",
     "output_type": "stream",
     "text": [
      "<>:2: SyntaxWarning: invalid escape sequence '\\L'\n",
      "<>:3: SyntaxWarning: invalid escape sequence '\\L'\n",
      "<>:2: SyntaxWarning: invalid escape sequence '\\L'\n",
      "<>:3: SyntaxWarning: invalid escape sequence '\\L'\n",
      "C:\\Users\\Artem Frenk\\AppData\\Local\\Temp\\ipykernel_10184\\3281510619.py:2: SyntaxWarning: invalid escape sequence '\\L'\n",
      "  df =  pd.read_csv(\"D:\\LongitudinalKnowledgeTracing24\\sakt\\data\\subset_50000_train.csv\")\n",
      "C:\\Users\\Artem Frenk\\AppData\\Local\\Temp\\ipykernel_10184\\3281510619.py:3: SyntaxWarning: invalid escape sequence '\\L'\n",
      "  val_df = pd.read_csv(\"D:\\LongitudinalKnowledgeTracing24\\sakt\\data\\subset_25000_test.csv\")\n"
     ]
    }
   ],
   "source": [
    "model = SAKTModel()\n",
    "df =  pd.read_csv(\"D:\\LongitudinalKnowledgeTracing24\\sakt\\data\\subset_50000_train.csv\")\n",
    "val_df = pd.read_csv(\"D:\\LongitudinalKnowledgeTracing24\\sakt\\data\\subset_25000_test.csv\")\n"
   ]
  },
  {
   "cell_type": "code",
   "execution_count": 3,
   "id": "d46ce5659370186d",
   "metadata": {},
   "outputs": [
    {
     "name": "stderr",
     "output_type": "stream",
     "text": [
      "Epoch 1/10 [Train]: 100%|████| 782/782 [01:32<00:00,  8.46it/s, loss=0.6281, auc=0.5732, acc=0.6783]\n"
     ]
    },
    {
     "name": "stdout",
     "output_type": "stream",
     "text": [
      "Epoch 1/10: Loss=0.6281, AUC=0.5732, Accuracy=0.6783\n"
     ]
    },
    {
     "name": "stderr",
     "output_type": "stream",
     "text": [
      "Epoch 2/10 [Train]: 100%|████| 782/782 [01:25<00:00,  9.11it/s, loss=0.4079, auc=0.8725, acc=0.8218]\n"
     ]
    },
    {
     "name": "stdout",
     "output_type": "stream",
     "text": [
      "Epoch 2/10: Loss=0.4079, AUC=0.8725, Accuracy=0.8218\n"
     ]
    },
    {
     "name": "stderr",
     "output_type": "stream",
     "text": [
      "Epoch 3/10 [Train]: 100%|████| 782/782 [01:21<00:00,  9.54it/s, loss=0.2204, auc=0.9642, acc=0.9142]\n"
     ]
    },
    {
     "name": "stdout",
     "output_type": "stream",
     "text": [
      "Epoch 3/10: Loss=0.2204, AUC=0.9642, Accuracy=0.9142\n"
     ]
    },
    {
     "name": "stderr",
     "output_type": "stream",
     "text": [
      "Epoch 4/10 [Train]: 100%|████| 782/782 [01:21<00:00,  9.57it/s, loss=0.1395, auc=0.9848, acc=0.9490]\n"
     ]
    },
    {
     "name": "stdout",
     "output_type": "stream",
     "text": [
      "Epoch 4/10: Loss=0.1395, AUC=0.9848, Accuracy=0.9490\n"
     ]
    },
    {
     "name": "stderr",
     "output_type": "stream",
     "text": [
      "Epoch 5/10 [Train]: 100%|████| 782/782 [01:21<00:00,  9.64it/s, loss=0.1099, auc=0.9906, acc=0.9594]\n"
     ]
    },
    {
     "name": "stdout",
     "output_type": "stream",
     "text": [
      "Epoch 5/10: Loss=0.1099, AUC=0.9906, Accuracy=0.9594\n"
     ]
    },
    {
     "name": "stderr",
     "output_type": "stream",
     "text": [
      "Epoch 6/10 [Train]: 100%|████| 782/782 [01:21<00:00,  9.59it/s, loss=0.0951, auc=0.9927, acc=0.9635]\n"
     ]
    },
    {
     "name": "stdout",
     "output_type": "stream",
     "text": [
      "Epoch 6/10: Loss=0.0951, AUC=0.9927, Accuracy=0.9635\n"
     ]
    },
    {
     "name": "stderr",
     "output_type": "stream",
     "text": [
      "Epoch 7/10 [Train]: 100%|████| 782/782 [01:21<00:00,  9.61it/s, loss=0.0828, auc=0.9949, acc=0.9660]\n"
     ]
    },
    {
     "name": "stdout",
     "output_type": "stream",
     "text": [
      "Epoch 7/10: Loss=0.0828, AUC=0.9949, Accuracy=0.9660\n"
     ]
    },
    {
     "name": "stderr",
     "output_type": "stream",
     "text": [
      "Epoch 8/10 [Train]: 100%|████| 782/782 [01:23<00:00,  9.38it/s, loss=0.0733, auc=0.9959, acc=0.9711]\n"
     ]
    },
    {
     "name": "stdout",
     "output_type": "stream",
     "text": [
      "Epoch 8/10: Loss=0.0733, AUC=0.9959, Accuracy=0.9711\n"
     ]
    },
    {
     "name": "stderr",
     "output_type": "stream",
     "text": [
      "Epoch 9/10 [Train]: 100%|████| 782/782 [01:21<00:00,  9.61it/s, loss=0.0731, auc=0.9960, acc=0.9690]\n"
     ]
    },
    {
     "name": "stdout",
     "output_type": "stream",
     "text": [
      "Epoch 9/10: Loss=0.0731, AUC=0.9960, Accuracy=0.9690\n"
     ]
    },
    {
     "name": "stderr",
     "output_type": "stream",
     "text": [
      "Epoch 10/10 [Train]: 100%|███| 782/782 [01:22<00:00,  9.45it/s, loss=0.0698, auc=0.9959, acc=0.9714]"
     ]
    },
    {
     "name": "stdout",
     "output_type": "stream",
     "text": [
      "Epoch 10/10: Loss=0.0698, AUC=0.9959, Accuracy=0.9714\n"
     ]
    },
    {
     "name": "stderr",
     "output_type": "stream",
     "text": [
      "\n"
     ]
    }
   ],
   "source": [
    "model.fit(df)\n"
   ]
  },
  {
   "cell_type": "code",
   "execution_count": 4,
   "id": "456a3d2e72c90eab",
   "metadata": {},
   "outputs": [
    {
     "name": "stderr",
     "output_type": "stream",
     "text": [
      "Evaluation [Val]:   1%|        | 4/279 [00:01<01:31,  3.02it/s, loss=1.4803, auc=0.4507, acc=0.5938]"
     ]
    },
    {
     "name": "stdout",
     "output_type": "stream",
     "text": [
      "WARNING:tensorflow:5 out of the last 5 calls to <function SAKTModel._val_step at 0x0000018E46BABBA0> triggered tf.function retracing. Tracing is expensive and the excessive number of tracings could be due to (1) creating @tf.function repeatedly in a loop, (2) passing tensors with different shapes, (3) passing Python objects instead of tensors. For (1), please define your @tf.function outside of the loop. For (2), @tf.function has reduce_retracing=True option that can avoid unnecessary retracing. For (3), please refer to https://www.tensorflow.org/guide/function#controlling_retracing and https://www.tensorflow.org/api_docs/python/tf/function for  more details.\n"
     ]
    },
    {
     "name": "stderr",
     "output_type": "stream",
     "text": [
      "Evaluation [Val]:   2%|▏       | 5/279 [00:01<01:29,  3.05it/s, loss=1.3624, auc=0.5035, acc=0.6375]"
     ]
    },
    {
     "name": "stdout",
     "output_type": "stream",
     "text": [
      "WARNING:tensorflow:6 out of the last 6 calls to <function SAKTModel._val_step at 0x0000018E46BABBA0> triggered tf.function retracing. Tracing is expensive and the excessive number of tracings could be due to (1) creating @tf.function repeatedly in a loop, (2) passing tensors with different shapes, (3) passing Python objects instead of tensors. For (1), please define your @tf.function outside of the loop. For (2), @tf.function has reduce_retracing=True option that can avoid unnecessary retracing. For (3), please refer to https://www.tensorflow.org/guide/function#controlling_retracing and https://www.tensorflow.org/api_docs/python/tf/function for  more details.\n"
     ]
    },
    {
     "name": "stderr",
     "output_type": "stream",
     "text": [
      "Evaluation [Val]: 100%|██████| 279/279 [01:15<00:00,  3.71it/s, loss=1.2409, auc=0.5396, acc=0.6606]"
     ]
    },
    {
     "name": "stdout",
     "output_type": "stream",
     "text": [
      "Validation: Loss=1.2409, AUC=0.5396, Accuracy=0.6606\n"
     ]
    },
    {
     "name": "stderr",
     "output_type": "stream",
     "text": [
      "\n"
     ]
    },
    {
     "data": {
      "text/plain": [
       "{'loss': 1.2409214, 'auc': 0.53964686, 'accuracy': 0.66059786}"
      ]
     },
     "execution_count": 4,
     "metadata": {},
     "output_type": "execute_result"
    }
   ],
   "source": [
    "model.eval(val_df)"
   ]
  },
  {
   "cell_type": "code",
   "execution_count": null,
   "id": "da375f58a673f5d6",
   "metadata": {},
   "outputs": [],
   "source": []
  }
 ],
 "metadata": {
  "kernelspec": {
   "display_name": "Python 3",
   "language": "python",
   "name": "python3"
  },
  "language_info": {
   "codemirror_mode": {
    "name": "ipython",
    "version": 3
   },
   "file_extension": ".py",
   "mimetype": "text/x-python",
   "name": "python",
   "nbconvert_exporter": "python",
   "pygments_lexer": "ipython3",
   "version": "3.12.2"
  }
 },
 "nbformat": 4,
 "nbformat_minor": 5
}
