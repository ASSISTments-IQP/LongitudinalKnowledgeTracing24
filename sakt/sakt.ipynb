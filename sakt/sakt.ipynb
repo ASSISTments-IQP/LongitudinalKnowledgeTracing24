{
 "cells": [
  {
   "cell_type": "code",
   "id": "initial_id",
   "metadata": {
    "collapsed": true,
    "ExecuteTime": {
     "end_time": "2024-09-26T16:18:43.954193Z",
     "start_time": "2024-09-26T16:18:43.939492Z"
    }
   },
   "source": "from SAKT_model import SAKTModel",
   "outputs": [],
   "execution_count": 3
  },
  {
   "metadata": {
    "ExecuteTime": {
     "end_time": "2024-09-29T21:27:26.299365Z",
     "start_time": "2024-09-29T21:27:25.934426Z"
    }
   },
   "cell_type": "code",
   "source": [
    "file_path = \"../23-24-problem_logs.csv\"\n",
    "\n",
    "model = SAKTModel()"
   ],
   "id": "8b0e223db4d5ca13",
   "outputs": [
    {
     "ename": "NameError",
     "evalue": "name 'SAKTModel' is not defined",
     "output_type": "error",
     "traceback": [
      "\u001B[1;31m---------------------------------------------------------------------------\u001B[0m",
      "\u001B[1;31mNameError\u001B[0m                                 Traceback (most recent call last)",
      "Cell \u001B[1;32mIn[1], line 3\u001B[0m\n\u001B[0;32m      1\u001B[0m file_path \u001B[38;5;241m=\u001B[39m \u001B[38;5;124m\"\u001B[39m\u001B[38;5;124m../23-24-problem_logs.csv\u001B[39m\u001B[38;5;124m\"\u001B[39m\n\u001B[1;32m----> 3\u001B[0m model \u001B[38;5;241m=\u001B[39m SAKTModel(file_path\u001B[38;5;241m=\u001B[39mfile_path)\n",
      "\u001B[1;31mNameError\u001B[0m: name 'SAKTModel' is not defined"
     ]
    }
   ],
   "execution_count": 1
  },
  {
   "metadata": {},
   "cell_type": "code",
   "outputs": [],
   "execution_count": null,
   "source": "model.preprocess()",
   "id": "d46ce5659370186d"
  },
  {
   "metadata": {},
   "cell_type": "code",
   "outputs": [],
   "execution_count": null,
   "source": "model.fit()",
   "id": "456a3d2e72c90eab"
  },
  {
   "metadata": {},
   "cell_type": "code",
   "outputs": [],
   "execution_count": null,
   "source": "model.eval()",
   "id": "da375f58a673f5d6"
  }
 ],
 "metadata": {
  "kernelspec": {
   "display_name": "Python 3",
   "language": "python",
   "name": "python3"
  },
  "language_info": {
   "codemirror_mode": {
    "name": "ipython",
    "version": 2
   },
   "file_extension": ".py",
   "mimetype": "text/x-python",
   "name": "python",
   "nbconvert_exporter": "python",
   "pygments_lexer": "ipython2",
   "version": "2.7.6"
  }
 },
 "nbformat": 4,
 "nbformat_minor": 5
}
