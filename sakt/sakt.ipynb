{
 "cells": [
  {
   "cell_type": "code",
   "execution_count": 1,
   "id": "initial_id",
   "metadata": {
    "ExecuteTime": {
     "end_time": "2024-09-26T16:18:43.954193Z",
     "start_time": "2024-09-26T16:18:43.939492Z"
    },
    "collapsed": true
   },
   "outputs": [],
   "source": [
    "import pandas as pd\n",
    "from SAKT_model import SAKTModel"
   ]
  },
  {
   "cell_type": "code",
   "execution_count": 2,
   "id": "8b0e223db4d5ca13",
   "metadata": {
    "ExecuteTime": {
     "end_time": "2024-09-29T21:27:26.299365Z",
     "start_time": "2024-09-29T21:27:25.934426Z"
    }
   },
   "outputs": [
    {
     "name": "stdout",
     "output_type": "stream",
     "text": [
      "Using device: /CPU:0\n"
     ]
    },
    {
     "name": "stderr",
     "output_type": "stream",
     "text": [
      "<>:2: SyntaxWarning: invalid escape sequence '\\L'\n",
      "<>:3: SyntaxWarning: invalid escape sequence '\\L'\n",
      "<>:2: SyntaxWarning: invalid escape sequence '\\L'\n",
      "<>:3: SyntaxWarning: invalid escape sequence '\\L'\n",
      "C:\\Users\\Artem Frenk\\AppData\\Local\\Temp\\ipykernel_2740\\3281510619.py:2: SyntaxWarning: invalid escape sequence '\\L'\n",
      "  df =  pd.read_csv(\"D:\\LongitudinalKnowledgeTracing24\\sakt\\data\\subset_50000_train.csv\")\n",
      "C:\\Users\\Artem Frenk\\AppData\\Local\\Temp\\ipykernel_2740\\3281510619.py:3: SyntaxWarning: invalid escape sequence '\\L'\n",
      "  val_df = pd.read_csv(\"D:\\LongitudinalKnowledgeTracing24\\sakt\\data\\subset_25000_test.csv\")\n"
     ]
    }
   ],
   "source": [
    "model = SAKTModel()\n",
    "df =  pd.read_csv(\"D:\\LongitudinalKnowledgeTracing24\\sakt\\data\\subset_50000_train.csv\")\n",
    "val_df = pd.read_csv(\"D:\\LongitudinalKnowledgeTracing24\\sakt\\data\\subset_25000_test.csv\")\n"
   ]
  },
  {
   "cell_type": "code",
   "execution_count": 3,
   "id": "d46ce5659370186d",
   "metadata": {},
   "outputs": [
    {
     "name": "stderr",
     "output_type": "stream",
     "text": [
      "Epoch 1/1 [Train]: 100%|███| 1564/1564 [01:53<00:00, 13.72it/s, loss=0.6315, auc=0.5734, acc=0.6738]"
     ]
    },
    {
     "name": "stdout",
     "output_type": "stream",
     "text": [
      "Epoch 1/1: Loss=0.6315, AUC=0.5734, Accuracy=0.6738\n"
     ]
    },
    {
     "name": "stderr",
     "output_type": "stream",
     "text": [
      "\n"
     ]
    }
   ],
   "source": [
    "model.fit(df, num_epochs=1)\n"
   ]
  },
  {
   "cell_type": "code",
   "execution_count": 4,
   "id": "456a3d2e72c90eab",
   "metadata": {},
   "outputs": [
    {
     "name": "stderr",
     "output_type": "stream",
     "text": [
      "Evaluation [Val]: 100%|██████| 557/557 [00:23<00:00, 24.13it/s, loss=0.6127, auc=0.5922, acc=0.6877]"
     ]
    },
    {
     "name": "stdout",
     "output_type": "stream",
     "text": [
      "Validation: Loss=0.6127, AUC=0.5922, Accuracy=0.6877\n"
     ]
    },
    {
     "name": "stderr",
     "output_type": "stream",
     "text": [
      "\n"
     ]
    },
    {
     "data": {
      "text/plain": [
       "0.5921821594238281"
      ]
     },
     "execution_count": 4,
     "metadata": {},
     "output_type": "execute_result"
    }
   ],
   "source": [
    "model.eval(val_df)"
   ]
  },
  {
   "cell_type": "code",
   "execution_count": null,
   "id": "da375f58a673f5d6",
   "metadata": {},
   "outputs": [],
   "source": []
  }
 ],
 "metadata": {
  "kernelspec": {
   "display_name": "Python 3",
   "language": "python",
   "name": "python3"
  },
  "language_info": {
   "codemirror_mode": {
    "name": "ipython",
    "version": 3
   },
   "file_extension": ".py",
   "mimetype": "text/x-python",
   "name": "python",
   "nbconvert_exporter": "python",
   "pygments_lexer": "ipython3",
   "version": "3.12.2"
  }
 },
 "nbformat": 4,
 "nbformat_minor": 5
}
