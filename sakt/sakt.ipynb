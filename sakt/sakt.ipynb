{
 "cells": [
  {
   "cell_type": "code",
   "id": "initial_id",
   "metadata": {
    "collapsed": true,
    "ExecuteTime": {
     "end_time": "2024-11-10T23:27:13.435946Z",
     "start_time": "2024-11-10T23:27:13.431814Z"
    }
   },
   "source": [
    "import pandas as pd\n",
    "from sakt_pt import SAKTModel"
   ],
   "outputs": [],
   "execution_count": 6
  },
  {
   "cell_type": "code",
   "id": "8b0e223db4d5ca13",
   "metadata": {
    "ExecuteTime": {
     "end_time": "2024-11-10T23:27:14.791470Z",
     "start_time": "2024-11-10T23:27:14.133510Z"
    }
   },
   "source": [
    "model = SAKTModel()\n",
    "df =  pd.read_csv(\"D:\\LongitudinalKnowledgeTracing24\\samples/23-24\\sample7.csv\")\n",
    "val_df = pd.read_csv(\"D:\\LongitudinalKnowledgeTracing24\\samples/23-24\\sample8.csv\")\n"
   ],
   "outputs": [
    {
     "name": "stderr",
     "output_type": "stream",
     "text": [
      "<>:2: SyntaxWarning: invalid escape sequence '\\L'\n",
      "<>:3: SyntaxWarning: invalid escape sequence '\\L'\n",
      "<>:2: SyntaxWarning: invalid escape sequence '\\L'\n",
      "<>:3: SyntaxWarning: invalid escape sequence '\\L'\n",
      "C:\\Users\\Artem Frenk\\AppData\\Local\\Temp\\ipykernel_74260\\11647498.py:2: SyntaxWarning: invalid escape sequence '\\L'\n",
      "  df =  pd.read_csv(\"D:\\LongitudinalKnowledgeTracing24\\samples/23-24\\sample7.csv\")\n",
      "C:\\Users\\Artem Frenk\\AppData\\Local\\Temp\\ipykernel_74260\\11647498.py:3: SyntaxWarning: invalid escape sequence '\\L'\n",
      "  val_df = pd.read_csv(\"D:\\LongitudinalKnowledgeTracing24\\samples/23-24\\sample8.csv\")\n"
     ]
    }
   ],
   "execution_count": 7
  },
  {
   "cell_type": "code",
   "id": "d46ce5659370186d",
   "metadata": {
    "ExecuteTime": {
     "end_time": "2024-11-10T23:27:14.811349Z",
     "start_time": "2024-11-10T23:27:14.792447Z"
    }
   },
   "source": [
    "model.fit(df, num_epochs=1)\n"
   ],
   "outputs": [
    {
     "ename": "AttributeError",
     "evalue": "'SAKTModel' object has no attribute 'fit'",
     "output_type": "error",
     "traceback": [
      "\u001B[1;31m---------------------------------------------------------------------------\u001B[0m",
      "\u001B[1;31mAttributeError\u001B[0m                            Traceback (most recent call last)",
      "Cell \u001B[1;32mIn[8], line 1\u001B[0m\n\u001B[1;32m----> 1\u001B[0m model\u001B[38;5;241m.\u001B[39mfit(df, num_epochs\u001B[38;5;241m=\u001B[39m\u001B[38;5;241m1\u001B[39m)\n",
      "File \u001B[1;32mD:\\Anaconda\\envs\\venv\\Lib\\site-packages\\torch\\nn\\modules\\module.py:1729\u001B[0m, in \u001B[0;36mModule.__getattr__\u001B[1;34m(self, name)\u001B[0m\n\u001B[0;32m   1727\u001B[0m     \u001B[38;5;28;01mif\u001B[39;00m name \u001B[38;5;129;01min\u001B[39;00m modules:\n\u001B[0;32m   1728\u001B[0m         \u001B[38;5;28;01mreturn\u001B[39;00m modules[name]\n\u001B[1;32m-> 1729\u001B[0m \u001B[38;5;28;01mraise\u001B[39;00m \u001B[38;5;167;01mAttributeError\u001B[39;00m(\u001B[38;5;124mf\u001B[39m\u001B[38;5;124m\"\u001B[39m\u001B[38;5;124m'\u001B[39m\u001B[38;5;132;01m{\u001B[39;00m\u001B[38;5;28mtype\u001B[39m(\u001B[38;5;28mself\u001B[39m)\u001B[38;5;241m.\u001B[39m\u001B[38;5;18m__name__\u001B[39m\u001B[38;5;132;01m}\u001B[39;00m\u001B[38;5;124m'\u001B[39m\u001B[38;5;124m object has no attribute \u001B[39m\u001B[38;5;124m'\u001B[39m\u001B[38;5;132;01m{\u001B[39;00mname\u001B[38;5;132;01m}\u001B[39;00m\u001B[38;5;124m'\u001B[39m\u001B[38;5;124m\"\u001B[39m)\n",
      "\u001B[1;31mAttributeError\u001B[0m: 'SAKTModel' object has no attribute 'fit'"
     ]
    }
   ],
   "execution_count": 8
  },
  {
   "cell_type": "code",
   "execution_count": 4,
   "id": "456a3d2e72c90eab",
   "metadata": {},
   "source": [
    "model.eval(val_df)"
   ],
   "outputs": []
  },
  {
   "cell_type": "code",
   "execution_count": null,
   "id": "da375f58a673f5d6",
   "metadata": {},
   "source": [],
   "outputs": []
  }
 ],
 "metadata": {
  "kernelspec": {
   "display_name": "Python 3",
   "language": "python",
   "name": "python3"
  },
  "language_info": {
   "codemirror_mode": {
    "name": "ipython",
    "version": 3
   },
   "file_extension": ".py",
   "mimetype": "text/x-python",
   "name": "python",
   "nbconvert_exporter": "python",
   "pygments_lexer": "ipython3",
   "version": "3.12.2"
  }
 },
 "nbformat": 4,
 "nbformat_minor": 5
}
