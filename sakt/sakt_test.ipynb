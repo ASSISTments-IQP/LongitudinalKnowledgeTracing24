{
 "cells": [
  {
   "cell_type": "code",
   "metadata": {
    "ExecuteTime": {
     "end_time": "2024-09-26T15:56:50.986539Z",
     "start_time": "2024-09-26T15:55:00.900512Z"
    }
   },
   "source": [
    "import pandas as pd\n",
    "from SAKT_model import SAKTModel  # Assuming the refactored class is saved as sakt_model.py\n",
    "\n",
    "def test_sakt_model(csv_file: str, num_epochs: int = 5):\n",
    "    # Create an instance of the SAKTModel class\n",
    "    model = SAKTModel(file_path=csv_file, num_steps=50, batch_size=32)\n",
    "\n",
    "    # Preprocess the data (load and prepare embeddings)\n",
    "    print(\"Preprocessing data...\")\n",
    "    model.preprocess()\n",
    "\n",
    "    # Train the model\n",
    "    print(\"Training the model...\")\n",
    "    model.fit(num_epochs=num_epochs)\n",
    "\n",
    "    # Evaluate the model\n",
    "    print(\"Evaluating the model...\")\n",
    "    model.eva()\n",
    "\n",
    "if __name__ == \"__main__\":\n",
    "    # Test with your CSV file\n",
    "    test_csv = '../23-24-problem_logs.csv'  # Replace with the actual path to your CSV\n",
    "    test_sakt_model(test_csv)\n"
   ],
   "outputs": [
    {
     "name": "stdout",
     "output_type": "stream",
     "text": [
      "Preprocessing data...\n"
     ]
    },
    {
     "ename": "KeyboardInterrupt",
     "evalue": "",
     "output_type": "error",
     "traceback": [
      "\u001B[1;31m---------------------------------------------------------------------------\u001B[0m",
      "\u001B[1;31mKeyboardInterrupt\u001B[0m                         Traceback (most recent call last)",
      "Cell \u001B[1;32mIn[11], line 23\u001B[0m\n\u001B[0;32m     20\u001B[0m \u001B[38;5;28;01mif\u001B[39;00m \u001B[38;5;18m__name__\u001B[39m \u001B[38;5;241m==\u001B[39m \u001B[38;5;124m\"\u001B[39m\u001B[38;5;124m__main__\u001B[39m\u001B[38;5;124m\"\u001B[39m:\n\u001B[0;32m     21\u001B[0m     \u001B[38;5;66;03m# Test with your CSV file\u001B[39;00m\n\u001B[0;32m     22\u001B[0m     test_csv \u001B[38;5;241m=\u001B[39m \u001B[38;5;124m'\u001B[39m\u001B[38;5;124m../23-24-problem_logs.csv\u001B[39m\u001B[38;5;124m'\u001B[39m  \u001B[38;5;66;03m# Replace with the actual path to your CSV\u001B[39;00m\n\u001B[1;32m---> 23\u001B[0m     test_sakt_model(test_csv)\n",
      "Cell \u001B[1;32mIn[11], line 10\u001B[0m, in \u001B[0;36mtest_sakt_model\u001B[1;34m(csv_file, num_epochs)\u001B[0m\n\u001B[0;32m      8\u001B[0m \u001B[38;5;66;03m# Preprocess the data (load and prepare embeddings)\u001B[39;00m\n\u001B[0;32m      9\u001B[0m \u001B[38;5;28mprint\u001B[39m(\u001B[38;5;124m\"\u001B[39m\u001B[38;5;124mPreprocessing data...\u001B[39m\u001B[38;5;124m\"\u001B[39m)\n\u001B[1;32m---> 10\u001B[0m model\u001B[38;5;241m.\u001B[39mpreprocess()\n\u001B[0;32m     12\u001B[0m \u001B[38;5;66;03m# Train the model\u001B[39;00m\n\u001B[0;32m     13\u001B[0m \u001B[38;5;28mprint\u001B[39m(\u001B[38;5;124m\"\u001B[39m\u001B[38;5;124mTraining the model...\u001B[39m\u001B[38;5;124m\"\u001B[39m)\n",
      "File \u001B[1;32mD:\\LongitudinalKnowledgeTracing24\\sakt\\SAKT_model.py:40\u001B[0m, in \u001B[0;36mSAKTModel.preprocess\u001B[1;34m(self)\u001B[0m\n\u001B[0;32m     37\u001B[0m \u001B[38;5;28;01mdef\u001B[39;00m \u001B[38;5;21mpreprocess\u001B[39m(\u001B[38;5;28mself\u001B[39m) \u001B[38;5;241m-\u001B[39m\u001B[38;5;241m>\u001B[39m \u001B[38;5;28;01mNone\u001B[39;00m:\n\u001B[0;32m     38\u001B[0m     \u001B[38;5;66;03m# Load data\u001B[39;00m\n\u001B[0;32m     39\u001B[0m     df \u001B[38;5;241m=\u001B[39m pd\u001B[38;5;241m.\u001B[39mread_csv(\u001B[38;5;28mself\u001B[39m\u001B[38;5;241m.\u001B[39mfile_path)\n\u001B[1;32m---> 40\u001B[0m     df[\u001B[38;5;124m'\u001B[39m\u001B[38;5;124mstart_time\u001B[39m\u001B[38;5;124m'\u001B[39m] \u001B[38;5;241m=\u001B[39m pd\u001B[38;5;241m.\u001B[39mto_datetime(df[\u001B[38;5;124m'\u001B[39m\u001B[38;5;124mstart_time\u001B[39m\u001B[38;5;124m'\u001B[39m], utc\u001B[38;5;241m=\u001B[39m\u001B[38;5;28;01mTrue\u001B[39;00m)\n\u001B[0;32m     41\u001B[0m     df \u001B[38;5;241m=\u001B[39m df[[\u001B[38;5;124m'\u001B[39m\u001B[38;5;124muser_xid\u001B[39m\u001B[38;5;124m'\u001B[39m, \u001B[38;5;124m'\u001B[39m\u001B[38;5;124mold_problem_id\u001B[39m\u001B[38;5;124m'\u001B[39m, \u001B[38;5;124m'\u001B[39m\u001B[38;5;124mskill_id\u001B[39m\u001B[38;5;124m'\u001B[39m, \u001B[38;5;124m'\u001B[39m\u001B[38;5;124mdiscrete_score\u001B[39m\u001B[38;5;124m'\u001B[39m, \u001B[38;5;124m'\u001B[39m\u001B[38;5;124mstart_time\u001B[39m\u001B[38;5;124m'\u001B[39m]]\n\u001B[0;32m     42\u001B[0m     df \u001B[38;5;241m=\u001B[39m df\u001B[38;5;241m.\u001B[39msort_values(by\u001B[38;5;241m=\u001B[39m[\u001B[38;5;124m'\u001B[39m\u001B[38;5;124muser_xid\u001B[39m\u001B[38;5;124m'\u001B[39m, \u001B[38;5;124m'\u001B[39m\u001B[38;5;124mstart_time\u001B[39m\u001B[38;5;124m'\u001B[39m])\n",
      "File \u001B[1;32mD:\\Anaconda\\envs\\venv\\Lib\\site-packages\\pandas\\core\\tools\\datetimes.py:1067\u001B[0m, in \u001B[0;36mto_datetime\u001B[1;34m(arg, errors, dayfirst, yearfirst, utc, format, exact, unit, infer_datetime_format, origin, cache)\u001B[0m\n\u001B[0;32m   1065\u001B[0m         result \u001B[38;5;241m=\u001B[39m arg\u001B[38;5;241m.\u001B[39mmap(cache_array)\n\u001B[0;32m   1066\u001B[0m     \u001B[38;5;28;01melse\u001B[39;00m:\n\u001B[1;32m-> 1067\u001B[0m         values \u001B[38;5;241m=\u001B[39m convert_listlike(arg\u001B[38;5;241m.\u001B[39m_values, \u001B[38;5;28mformat\u001B[39m)\n\u001B[0;32m   1068\u001B[0m         result \u001B[38;5;241m=\u001B[39m arg\u001B[38;5;241m.\u001B[39m_constructor(values, index\u001B[38;5;241m=\u001B[39marg\u001B[38;5;241m.\u001B[39mindex, name\u001B[38;5;241m=\u001B[39marg\u001B[38;5;241m.\u001B[39mname)\n\u001B[0;32m   1069\u001B[0m \u001B[38;5;28;01melif\u001B[39;00m \u001B[38;5;28misinstance\u001B[39m(arg, (ABCDataFrame, abc\u001B[38;5;241m.\u001B[39mMutableMapping)):\n",
      "File \u001B[1;32mD:\\Anaconda\\envs\\venv\\Lib\\site-packages\\pandas\\core\\tools\\datetimes.py:433\u001B[0m, in \u001B[0;36m_convert_listlike_datetimes\u001B[1;34m(arg, format, name, utc, unit, errors, dayfirst, yearfirst, exact)\u001B[0m\n\u001B[0;32m    431\u001B[0m \u001B[38;5;66;03m# `format` could be inferred, or user didn't ask for mixed-format parsing.\u001B[39;00m\n\u001B[0;32m    432\u001B[0m \u001B[38;5;28;01mif\u001B[39;00m \u001B[38;5;28mformat\u001B[39m \u001B[38;5;129;01mis\u001B[39;00m \u001B[38;5;129;01mnot\u001B[39;00m \u001B[38;5;28;01mNone\u001B[39;00m \u001B[38;5;129;01mand\u001B[39;00m \u001B[38;5;28mformat\u001B[39m \u001B[38;5;241m!=\u001B[39m \u001B[38;5;124m\"\u001B[39m\u001B[38;5;124mmixed\u001B[39m\u001B[38;5;124m\"\u001B[39m:\n\u001B[1;32m--> 433\u001B[0m     \u001B[38;5;28;01mreturn\u001B[39;00m _array_strptime_with_fallback(arg, name, utc, \u001B[38;5;28mformat\u001B[39m, exact, errors)\n\u001B[0;32m    435\u001B[0m result, tz_parsed \u001B[38;5;241m=\u001B[39m objects_to_datetime64(\n\u001B[0;32m    436\u001B[0m     arg,\n\u001B[0;32m    437\u001B[0m     dayfirst\u001B[38;5;241m=\u001B[39mdayfirst,\n\u001B[1;32m   (...)\u001B[0m\n\u001B[0;32m    441\u001B[0m     allow_object\u001B[38;5;241m=\u001B[39m\u001B[38;5;28;01mTrue\u001B[39;00m,\n\u001B[0;32m    442\u001B[0m )\n\u001B[0;32m    444\u001B[0m \u001B[38;5;28;01mif\u001B[39;00m tz_parsed \u001B[38;5;129;01mis\u001B[39;00m \u001B[38;5;129;01mnot\u001B[39;00m \u001B[38;5;28;01mNone\u001B[39;00m:\n\u001B[0;32m    445\u001B[0m     \u001B[38;5;66;03m# We can take a shortcut since the datetime64 numpy array\u001B[39;00m\n\u001B[0;32m    446\u001B[0m     \u001B[38;5;66;03m# is in UTC\u001B[39;00m\n",
      "File \u001B[1;32mD:\\Anaconda\\envs\\venv\\Lib\\site-packages\\pandas\\core\\tools\\datetimes.py:477\u001B[0m, in \u001B[0;36m_array_strptime_with_fallback\u001B[1;34m(arg, name, utc, fmt, exact, errors)\u001B[0m\n\u001B[0;32m    475\u001B[0m \u001B[38;5;28;01melif\u001B[39;00m result\u001B[38;5;241m.\u001B[39mdtype \u001B[38;5;241m!=\u001B[39m \u001B[38;5;28mobject\u001B[39m \u001B[38;5;129;01mand\u001B[39;00m utc:\n\u001B[0;32m    476\u001B[0m     unit \u001B[38;5;241m=\u001B[39m np\u001B[38;5;241m.\u001B[39mdatetime_data(result\u001B[38;5;241m.\u001B[39mdtype)[\u001B[38;5;241m0\u001B[39m]\n\u001B[1;32m--> 477\u001B[0m     res \u001B[38;5;241m=\u001B[39m Index(result, dtype\u001B[38;5;241m=\u001B[39m\u001B[38;5;124mf\u001B[39m\u001B[38;5;124m\"\u001B[39m\u001B[38;5;124mM8[\u001B[39m\u001B[38;5;132;01m{\u001B[39;00munit\u001B[38;5;132;01m}\u001B[39;00m\u001B[38;5;124m, UTC]\u001B[39m\u001B[38;5;124m\"\u001B[39m, name\u001B[38;5;241m=\u001B[39mname)\n\u001B[0;32m    478\u001B[0m     \u001B[38;5;28;01mreturn\u001B[39;00m res\n\u001B[0;32m    479\u001B[0m \u001B[38;5;28;01mreturn\u001B[39;00m Index(result, dtype\u001B[38;5;241m=\u001B[39mresult\u001B[38;5;241m.\u001B[39mdtype, name\u001B[38;5;241m=\u001B[39mname)\n",
      "File \u001B[1;32mD:\\Anaconda\\envs\\venv\\Lib\\site-packages\\pandas\\core\\indexes\\base.py:565\u001B[0m, in \u001B[0;36mIndex.__new__\u001B[1;34m(cls, data, dtype, copy, name, tupleize_cols)\u001B[0m\n\u001B[0;32m    562\u001B[0m         data \u001B[38;5;241m=\u001B[39m com\u001B[38;5;241m.\u001B[39masarray_tuplesafe(data, dtype\u001B[38;5;241m=\u001B[39m_dtype_obj)\n\u001B[0;32m    564\u001B[0m \u001B[38;5;28;01mtry\u001B[39;00m:\n\u001B[1;32m--> 565\u001B[0m     arr \u001B[38;5;241m=\u001B[39m sanitize_array(data, \u001B[38;5;28;01mNone\u001B[39;00m, dtype\u001B[38;5;241m=\u001B[39mdtype, copy\u001B[38;5;241m=\u001B[39mcopy)\n\u001B[0;32m    566\u001B[0m \u001B[38;5;28;01mexcept\u001B[39;00m \u001B[38;5;167;01mValueError\u001B[39;00m \u001B[38;5;28;01mas\u001B[39;00m err:\n\u001B[0;32m    567\u001B[0m     \u001B[38;5;28;01mif\u001B[39;00m \u001B[38;5;124m\"\u001B[39m\u001B[38;5;124mindex must be specified when data is not list-like\u001B[39m\u001B[38;5;124m\"\u001B[39m \u001B[38;5;129;01min\u001B[39;00m \u001B[38;5;28mstr\u001B[39m(err):\n",
      "File \u001B[1;32mD:\\Anaconda\\envs\\venv\\Lib\\site-packages\\pandas\\core\\construction.py:596\u001B[0m, in \u001B[0;36msanitize_array\u001B[1;34m(data, index, dtype, copy, allow_2d)\u001B[0m\n\u001B[0;32m    594\u001B[0m     _sanitize_non_ordered(data)\n\u001B[0;32m    595\u001B[0m     \u001B[38;5;28mcls\u001B[39m \u001B[38;5;241m=\u001B[39m dtype\u001B[38;5;241m.\u001B[39mconstruct_array_type()\n\u001B[1;32m--> 596\u001B[0m     subarr \u001B[38;5;241m=\u001B[39m \u001B[38;5;28mcls\u001B[39m\u001B[38;5;241m.\u001B[39m_from_sequence(data, dtype\u001B[38;5;241m=\u001B[39mdtype, copy\u001B[38;5;241m=\u001B[39mcopy)\n\u001B[0;32m    598\u001B[0m \u001B[38;5;66;03m# GH#846\u001B[39;00m\n\u001B[0;32m    599\u001B[0m \u001B[38;5;28;01melif\u001B[39;00m \u001B[38;5;28misinstance\u001B[39m(data, np\u001B[38;5;241m.\u001B[39mndarray):\n",
      "File \u001B[1;32mD:\\Anaconda\\envs\\venv\\Lib\\site-packages\\pandas\\core\\arrays\\datetimes.py:327\u001B[0m, in \u001B[0;36mDatetimeArray._from_sequence\u001B[1;34m(cls, scalars, dtype, copy)\u001B[0m\n\u001B[0;32m    325\u001B[0m \u001B[38;5;129m@classmethod\u001B[39m\n\u001B[0;32m    326\u001B[0m \u001B[38;5;28;01mdef\u001B[39;00m \u001B[38;5;21m_from_sequence\u001B[39m(\u001B[38;5;28mcls\u001B[39m, scalars, \u001B[38;5;241m*\u001B[39m, dtype\u001B[38;5;241m=\u001B[39m\u001B[38;5;28;01mNone\u001B[39;00m, copy: \u001B[38;5;28mbool\u001B[39m \u001B[38;5;241m=\u001B[39m \u001B[38;5;28;01mFalse\u001B[39;00m):\n\u001B[1;32m--> 327\u001B[0m     \u001B[38;5;28;01mreturn\u001B[39;00m \u001B[38;5;28mcls\u001B[39m\u001B[38;5;241m.\u001B[39m_from_sequence_not_strict(scalars, dtype\u001B[38;5;241m=\u001B[39mdtype, copy\u001B[38;5;241m=\u001B[39mcopy)\n",
      "File \u001B[1;32mD:\\Anaconda\\envs\\venv\\Lib\\site-packages\\pandas\\core\\arrays\\datetimes.py:369\u001B[0m, in \u001B[0;36mDatetimeArray._from_sequence_not_strict\u001B[1;34m(cls, data, dtype, copy, tz, freq, dayfirst, yearfirst, ambiguous)\u001B[0m\n\u001B[0;32m    366\u001B[0m \u001B[38;5;28;01mif\u001B[39;00m \u001B[38;5;28misinstance\u001B[39m(data, DatetimeArray):\n\u001B[0;32m    367\u001B[0m     inferred_freq \u001B[38;5;241m=\u001B[39m data\u001B[38;5;241m.\u001B[39mfreq\n\u001B[1;32m--> 369\u001B[0m subarr, tz \u001B[38;5;241m=\u001B[39m _sequence_to_dt64(\n\u001B[0;32m    370\u001B[0m     data,\n\u001B[0;32m    371\u001B[0m     copy\u001B[38;5;241m=\u001B[39mcopy,\n\u001B[0;32m    372\u001B[0m     tz\u001B[38;5;241m=\u001B[39mtz,\n\u001B[0;32m    373\u001B[0m     dayfirst\u001B[38;5;241m=\u001B[39mdayfirst,\n\u001B[0;32m    374\u001B[0m     yearfirst\u001B[38;5;241m=\u001B[39myearfirst,\n\u001B[0;32m    375\u001B[0m     ambiguous\u001B[38;5;241m=\u001B[39mambiguous,\n\u001B[0;32m    376\u001B[0m     out_unit\u001B[38;5;241m=\u001B[39munit,\n\u001B[0;32m    377\u001B[0m )\n\u001B[0;32m    378\u001B[0m \u001B[38;5;66;03m# We have to call this again after possibly inferring a tz above\u001B[39;00m\n\u001B[0;32m    379\u001B[0m _validate_tz_from_dtype(dtype, tz, explicit_tz_none)\n",
      "File \u001B[1;32mD:\\Anaconda\\envs\\venv\\Lib\\site-packages\\pandas\\core\\arrays\\datetimes.py:2287\u001B[0m, in \u001B[0;36m_sequence_to_dt64\u001B[1;34m(data, copy, tz, dayfirst, yearfirst, ambiguous, out_unit)\u001B[0m\n\u001B[0;32m   2284\u001B[0m         data \u001B[38;5;241m=\u001B[39m data\u001B[38;5;241m.\u001B[39m_ndarray\n\u001B[0;32m   2286\u001B[0m     data \u001B[38;5;241m=\u001B[39m cast(np\u001B[38;5;241m.\u001B[39mndarray, data)\n\u001B[1;32m-> 2287\u001B[0m     result, copy \u001B[38;5;241m=\u001B[39m _construct_from_dt64_naive(\n\u001B[0;32m   2288\u001B[0m         data, tz\u001B[38;5;241m=\u001B[39mtz, copy\u001B[38;5;241m=\u001B[39mcopy, ambiguous\u001B[38;5;241m=\u001B[39mambiguous\n\u001B[0;32m   2289\u001B[0m     )\n\u001B[0;32m   2291\u001B[0m \u001B[38;5;28;01melse\u001B[39;00m:\n\u001B[0;32m   2292\u001B[0m     \u001B[38;5;66;03m# must be integer dtype otherwise\u001B[39;00m\n\u001B[0;32m   2293\u001B[0m     \u001B[38;5;66;03m# assume this data are epoch timestamps\u001B[39;00m\n\u001B[0;32m   2294\u001B[0m     \u001B[38;5;28;01mif\u001B[39;00m data\u001B[38;5;241m.\u001B[39mdtype \u001B[38;5;241m!=\u001B[39m INT64_DTYPE:\n",
      "File \u001B[1;32mD:\\Anaconda\\envs\\venv\\Lib\\site-packages\\pandas\\core\\arrays\\datetimes.py:2342\u001B[0m, in \u001B[0;36m_construct_from_dt64_naive\u001B[1;34m(data, tz, copy, ambiguous)\u001B[0m\n\u001B[0;32m   2339\u001B[0m     data \u001B[38;5;241m=\u001B[39m data\u001B[38;5;241m.\u001B[39mravel()\n\u001B[0;32m   2341\u001B[0m data_unit \u001B[38;5;241m=\u001B[39m get_unit_from_dtype(new_dtype)\n\u001B[1;32m-> 2342\u001B[0m data \u001B[38;5;241m=\u001B[39m tzconversion\u001B[38;5;241m.\u001B[39mtz_localize_to_utc(\n\u001B[0;32m   2343\u001B[0m     data\u001B[38;5;241m.\u001B[39mview(\u001B[38;5;124m\"\u001B[39m\u001B[38;5;124mi8\u001B[39m\u001B[38;5;124m\"\u001B[39m), tz, ambiguous\u001B[38;5;241m=\u001B[39mambiguous, creso\u001B[38;5;241m=\u001B[39mdata_unit\n\u001B[0;32m   2344\u001B[0m )\n\u001B[0;32m   2345\u001B[0m data \u001B[38;5;241m=\u001B[39m data\u001B[38;5;241m.\u001B[39mview(new_dtype)\n\u001B[0;32m   2346\u001B[0m data \u001B[38;5;241m=\u001B[39m data\u001B[38;5;241m.\u001B[39mreshape(shape)\n",
      "\u001B[1;31mKeyboardInterrupt\u001B[0m: "
     ]
    }
   ],
   "execution_count": 11
  }
 ],
 "metadata": {
  "kernelspec": {
   "display_name": "venv",
   "language": "python",
   "name": "python3"
  },
  "language_info": {
   "codemirror_mode": {
    "name": "ipython",
    "version": 3
   },
   "file_extension": ".py",
   "mimetype": "text/x-python",
   "name": "python",
   "nbconvert_exporter": "python",
   "pygments_lexer": "ipython3",
   "version": "3.12.3"
  }
 },
 "nbformat": 4,
 "nbformat_minor": 2
}
