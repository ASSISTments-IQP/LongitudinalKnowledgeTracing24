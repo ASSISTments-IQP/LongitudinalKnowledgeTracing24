{
 "cells": [
  {
   "cell_type": "code",
   "metadata": {
    "ExecuteTime": {
     "end_time": "2024-09-26T15:56:50.986539Z",
     "start_time": "2024-09-26T15:55:00.900512Z"
    }
   },
   "source": [
    "import pandas as pd\n",
    "from SAKT_model import SAKTModel  # Assuming the refactored class is saved as sakt_model.py\n",
    "\n",
    "def test_sakt_model(csv_file: str, num_epochs: int = 5):\n",
    "    # Create an instance of the SAKTModel class\n",
    "    model = SAKTModel(file_path=csv_file, num_steps=50, batch_size=32)\n",
    "\n",
    "    # Preprocess the data (load and prepare embeddings)\n",
    "    print(\"Preprocessing data...\")\n",
    "    model.preprocess()\n",
    "\n",
    "    # Train the model\n",
    "    print(\"Training the model...\")\n",
    "    model.fit(num_epochs=num_epochs)\n",
    "\n",
    "    # Evaluate the model\n",
    "    print(\"Evaluating the model...\")\n",
    "    model.eva()\n",
    "\n",
    "if __name__ == \"__main__\":\n",
    "    # Test with your CSV file\n",
    "    test_csv = '../23-24-problem_logs.csv'  # Replace with the actual path to your CSV\n",
    "    test_sakt_model(test_csv)\n"
   ],
   "execution_count": 11,
   "outputs": []
  }
 ],
 "metadata": {
  "kernelspec": {
   "display_name": "venv",
   "language": "python",
   "name": "python3"
  },
  "language_info": {
   "codemirror_mode": {
    "name": "ipython",
    "version": 3
   },
   "file_extension": ".py",
   "mimetype": "text/x-python",
   "name": "python",
   "nbconvert_exporter": "python",
   "pygments_lexer": "ipython3",
   "version": "3.12.3"
  }
 },
 "nbformat": 4,
 "nbformat_minor": 2
}
