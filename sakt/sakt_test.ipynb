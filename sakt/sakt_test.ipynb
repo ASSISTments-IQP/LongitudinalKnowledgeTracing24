{
 "cells": [
  {
   "cell_type": "code",
   "execution_count": null,
   "metadata": {
    "ExecuteTime": {
     "end_time": "2024-11-10T23:28:24.112210Z",
     "start_time": "2024-11-10T23:28:15.604811Z"
    }
   },
   "source": [
    "import pandas as pd\n",
    "import numpy as np\n",
    "from datetime import datetime, timedelta\n",
    "num_users = 10\n",
    "num_exercises = 50\n",
    "max_attempts_per_user = 100\n",
    "\n",
    "data = []\n",
    "for user_id in range(1, num_users + 1):\n",
    "    num_attempts = np.random.randint(1, max_attempts_per_user + 1)\n",
    "    start_time = datetime.now() - timedelta(days=np.random.randint(1, 365))\n",
    "    \n",
    "    for _ in range(num_attempts):\n",
    "        exercise_id = np.random.randint(1, num_exercises + 1)\n",
    "        discrete_score = np.random.choice([0, 1])\n",
    "        data.append({\n",
    "            \"user_xid\": user_id,\n",
    "            \"old_problem_id\": exercise_id,\n",
    "            \"discrete_score\": discrete_score,\n",
    "            \"start_time\": start_time\n",
    "        })\n",
    "        \n",
    "        start_time += timedelta(minutes=np.random.randint(1, 60))\n",
    "sample_df = pd.DataFrame(data)\n",
    "\n",
    "print(sample_df.head())"
   ],
   "outputs": []
  },
  {
   "cell_type": "code",
   "execution_count": 2,
   "metadata": {},
   "source": [
    "from SAKT_model import SAKTModel"
   ],
   "outputs": []
  },
  {
   "cell_type": "code",
   "execution_count": null,
   "metadata": {},
   "source": [],
   "outputs": []
  },
  {
   "cell_type": "code",
   "execution_count": null,
   "metadata": {},
   "source": [
    "train_df = sample_df.sample(frac=0.8, random_state=42)\n",
    "val_df = sample_df.drop(train_df.index)\n",
    "\n",
    "model = SAKTModel()\n",
    "model.fit(train_df=train_df, val_df=val_df, num_epochs=50, early_stopping=False, patience=1)\n",
    "\n"
   ],
   "outputs": []
  }
 ],
 "metadata": {
  "kernelspec": {
   "display_name": "venv",
   "language": "python",
   "name": "python3"
  },
  "language_info": {
   "codemirror_mode": {
    "name": "ipython",
    "version": 3
   },
   "file_extension": ".py",
   "mimetype": "text/x-python",
   "name": "python",
   "nbconvert_exporter": "python",
   "pygments_lexer": "ipython3",
   "version": "3.12.3"
  }
 },
 "nbformat": 4,
 "nbformat_minor": 2
}
