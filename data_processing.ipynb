{
 "cells": [
  {
   "cell_type": "code",
   "id": "initial_id",
   "metadata": {
    "collapsed": true,
    "ExecuteTime": {
     "end_time": "2024-09-20T18:15:10.887988Z",
     "start_time": "2024-09-20T18:15:10.884018Z"
    }
   },
   "source": [
    "import pandas as pd\n",
    "from tqdm import tqdm\n",
    "import os"
   ],
   "outputs": [],
   "execution_count": 4
  },
  {
   "metadata": {},
   "cell_type": "markdown",
   "source": "# Split dataset into different dataframes for each year",
   "id": "a8cf6829ee56f82"
  },
  {
   "metadata": {
    "ExecuteTime": {
     "end_time": "2024-09-20T18:15:10.944590Z",
     "start_time": "2024-09-20T18:15:10.939249Z"
    }
   },
   "cell_type": "code",
   "source": [
    "def read_year(year):\n",
    "    res = []\n",
    "\n",
    "    with pd.read_csv(\"all_years_problem_logs.csv\",chunksize=10**6) as read:\n",
    "        for chunk in tqdm(read):\n",
    "            res.append(chunk[chunk['academic_year'] == year])\n",
    "            \n",
    "    return pd.concat(res)"
   ],
   "id": "5e827e2e366b84ce",
   "outputs": [],
   "execution_count": 5
  },
  {
   "metadata": {
    "ExecuteTime": {
     "end_time": "2024-09-20T18:18:26.893585Z",
     "start_time": "2024-09-20T18:15:10.947828Z"
    }
   },
   "cell_type": "code",
   "source": [
    "if os.path.isfile('./Data/full_year/19-20_logs.csv'):\n",
    "    ay19_20 = pd.read_csv('./Data/full_year/19-20_logs.csv')\n",
    "else:\n",
    "    ay19_20 = read_year('19-20')\n",
    "    ay19_20.to_csv('./Data/full_year/19-20_logs.csv',index=False)"
   ],
   "id": "a14926012971ec47",
   "outputs": [
    {
     "name": "stderr",
     "output_type": "stream",
     "text": [
      "108it [02:15,  1.25s/it]\n"
     ]
    }
   ],
   "execution_count": 6
  },
  {
   "metadata": {
    "ExecuteTime": {
     "end_time": "2024-09-20T18:24:48.581461Z",
     "start_time": "2024-09-20T18:18:26.895700Z"
    }
   },
   "cell_type": "code",
   "source": [
    "if os.path.isfile('./Data/full_year/20-21_logs.csv'):\n",
    "    ay20_21 = pd.read_csv('./Data/full_year/20-21_logs.csv')\n",
    "else:\n",
    "    ay20_21 = read_year('20-21')\n",
    "    ay20_21.to_csv('./Data/full_year/20-21_logs.csv',index=False)"
   ],
   "id": "eba2b58fc3d93105",
   "outputs": [
    {
     "name": "stderr",
     "output_type": "stream",
     "text": [
      "108it [02:24,  1.34s/it]\n"
     ]
    }
   ],
   "execution_count": 7
  },
  {
   "metadata": {
    "ExecuteTime": {
     "end_time": "2024-09-20T18:28:05.760948Z",
     "start_time": "2024-09-20T18:24:48.583807Z"
    }
   },
   "cell_type": "code",
   "source": [
    "if os.path.isfile('./Data/full_year/21-22_logs.csv'):\n",
    "    ay21_22 = pd.read_csv('./Data/full_year/21-22_logs.csv')\n",
    "else:\n",
    "    ay21_22 = read_year('21-22')\n",
    "    ay21_22.to_csv('./Data/full_year/21-22_logs.csv',index=False)"
   ],
   "id": "98aabab1055f2f3b",
   "outputs": [
    {
     "name": "stderr",
     "output_type": "stream",
     "text": [
      "108it [02:35,  1.44s/it]\n"
     ]
    }
   ],
   "execution_count": 8
  },
  {
   "metadata": {
    "ExecuteTime": {
     "end_time": "2024-09-20T18:31:14.803642Z",
     "start_time": "2024-09-20T18:28:05.762593Z"
    }
   },
   "cell_type": "code",
   "source": [
    "if os.path.isfile('./Data/full_year/22-23_logs.csv'):\n",
    "    ay22_23 = pd.read_csv('./Data/full_year/22-23_logs.csv')\n",
    "else:\n",
    "    ay22_23 = read_year('22-23')\n",
    "    ay22_23.to_csv('./Data/full_year/22-23_logs.csv',index=False)"
   ],
   "id": "e1e28972e8fbb6ce",
   "outputs": [
    {
     "name": "stderr",
     "output_type": "stream",
     "text": [
      "108it [02:50,  1.58s/it]\n"
     ]
    }
   ],
   "execution_count": 9
  },
  {
   "metadata": {
    "ExecuteTime": {
     "end_time": "2024-09-20T18:34:01.043182Z",
     "start_time": "2024-09-20T18:31:14.805444Z"
    }
   },
   "cell_type": "code",
   "source": [
    "if os.path.isfile('./Data/full_year/23-24_logs.csv'):\n",
    "    ay23_24 = pd.read_csv('./Data/full_year/23-24_logs.csv')\n",
    "else:\n",
    "    ay23_24 = read_year('23-24')\n",
    "    ay23_24.to_csv('./Data/full_year/23-24_logs.csv',index=False)"
   ],
   "id": "7b7df69ddd796bb9",
   "outputs": [
    {
     "name": "stderr",
     "output_type": "stream",
     "text": [
      "108it [02:34,  1.43s/it]\n"
     ]
    }
   ],
   "execution_count": 10
  },
  {
   "metadata": {
    "ExecuteTime": {
     "end_time": "2024-09-20T18:34:01.048858Z",
     "start_time": "2024-09-20T18:34:01.044929Z"
    }
   },
   "cell_type": "code",
   "source": [
    "y_dict = {\n",
    "    '19-20': ay19_20,\n",
    "    '20-21': ay20_21,\n",
    "    '21-22': ay21_22,\n",
    "    '22-23': ay22_23,\n",
    "    '23-24': ay23_24\n",
    "}"
   ],
   "id": "ea3553890ca16489",
   "outputs": [],
   "execution_count": 11
  },
  {
   "metadata": {},
   "cell_type": "markdown",
   "source": "Summary Statistics for each academic year",
   "id": "11a5988a71153f14"
  },
  {
   "metadata": {
    "ExecuteTime": {
     "end_time": "2024-09-20T18:34:04.794493Z",
     "start_time": "2024-09-20T18:34:01.062124Z"
    }
   },
   "cell_type": "code",
   "source": [
    "for key, val in y_dict.items():\n",
    "    print(\"Academic year \",key,':')\n",
    "    print(len(val.assignment_log_id.unique()),' unique assignment log ids')\n",
    "    print(len(val),' unique problem logs')\n",
    "    print(len(val.user_xid.unique()),' unique users')\n",
    "    print(len(val.skill_id.unique()),' unique skills')\n",
    "    print('Avg Correctness Value: ', val.discrete_score.mean())"
   ],
   "id": "5da60a5472e0a4b4",
   "outputs": [
    {
     "name": "stdout",
     "output_type": "stream",
     "text": [
      "Academic year  19-20 :\n",
      "1645060  unique assignment log ids\n",
      "17962663  unique problem logs\n",
      "228207  unique users\n",
      "408  unique skills\n",
      "Avg Correctness Value:  0.7277314616435213\n",
      "Academic year  20-21 :\n",
      "5478914  unique assignment log ids\n",
      "69760692  unique problem logs\n",
      "437500  unique users\n",
      "411  unique skills\n",
      "Avg Correctness Value:  0.6969889862904456\n",
      "Academic year  21-22 :\n",
      "1309773  unique assignment log ids\n",
      "11421033  unique problem logs\n",
      "122397  unique users\n",
      "412  unique skills\n",
      "Avg Correctness Value:  0.686448590070618\n",
      "Academic year  22-23 :\n",
      "754299  unique assignment log ids\n",
      "5382200  unique problem logs\n",
      "71284  unique users\n",
      "407  unique skills\n",
      "Avg Correctness Value:  0.6684890936791646\n",
      "Academic year  23-24 :\n",
      "519700  unique assignment log ids\n",
      "3254928  unique problem logs\n",
      "50896  unique users\n",
      "408  unique skills\n",
      "Avg Correctness Value:  0.6601918690674571\n"
     ]
    }
   ],
   "execution_count": 13
  },
  {
   "metadata": {
    "ExecuteTime": {
     "end_time": "2024-09-20T18:48:18.044610Z",
     "start_time": "2024-09-20T18:48:17.749765Z"
    }
   },
   "cell_type": "code",
   "source": "assignment_log_ids = pd.DataFrame(ay19_20.assignment_log_id.unique())",
   "id": "4b3f5c3aee0392dd",
   "outputs": [],
   "execution_count": 19
  },
  {
   "metadata": {
    "ExecuteTime": {
     "end_time": "2024-09-20T18:49:28.140205Z",
     "start_time": "2024-09-20T18:49:28.079076Z"
    }
   },
   "cell_type": "code",
   "source": "assignment_log_ids.sample(50000).to_numpy().reshape(-1)",
   "id": "f8f439fd7b5651f9",
   "outputs": [
    {
     "data": {
      "text/plain": [
       "array([1208213, 3492436, 3320161, ..., 2162260,  605353, 2992569])"
      ]
     },
     "execution_count": 28,
     "metadata": {},
     "output_type": "execute_result"
    }
   ],
   "execution_count": 28
  },
  {
   "metadata": {
    "ExecuteTime": {
     "end_time": "2024-09-20T18:51:31.934552Z",
     "start_time": "2024-09-20T18:49:57.615059Z"
    }
   },
   "cell_type": "code",
   "source": [
    "for key, val in y_dict.items():\n",
    "    assignment_log_ids = pd.DataFrame(val.assignment_log_id.unique())\n",
    "    for i in tqdm(range(10)):\n",
    "        sample_log_ids = assignment_log_ids.sample(n=50000).to_numpy().reshape(-1)\n",
    "        sample = val[val['assignment_log_id'].isin(sample_log_ids)]\n",
    "        sample.to_csv(f'./Data/samples/{key}/sample{i+1}.csv', index=False)"
   ],
   "id": "ca4143595179af1",
   "outputs": [
    {
     "name": "stderr",
     "output_type": "stream",
     "text": [
      "100%|██████████| 10/10 [00:21<00:00,  2.12s/it]\n",
      "100%|██████████| 10/10 [00:32<00:00,  3.22s/it]\n",
      "100%|██████████| 10/10 [00:15<00:00,  1.60s/it]\n",
      "100%|██████████| 10/10 [00:12<00:00,  1.24s/it]\n",
      "100%|██████████| 10/10 [00:10<00:00,  1.06s/it]\n"
     ]
    }
   ],
   "execution_count": 29
  }
 ],
 "metadata": {
  "kernelspec": {
   "display_name": "Python 3",
   "language": "python",
   "name": "python3"
  },
  "language_info": {
   "codemirror_mode": {
    "name": "ipython",
    "version": 2
   },
   "file_extension": ".py",
   "mimetype": "text/x-python",
   "name": "python",
   "nbconvert_exporter": "python",
   "pygments_lexer": "ipython2",
   "version": "2.7.6"
  }
 },
 "nbformat": 4,
 "nbformat_minor": 5
}
