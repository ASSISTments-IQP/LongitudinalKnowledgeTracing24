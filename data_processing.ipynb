{
 "cells": [
  {
   "cell_type": "code",
   "id": "initial_id",
   "metadata": {
    "collapsed": true
   },
   "source": [
    "import pandas as pd\n",
    "from tqdm import tqdm\n",
    "import os"
   ],
   "outputs": [],
   "execution_count": null
  },
  {
   "metadata": {},
   "cell_type": "markdown",
   "source": "# Split dataset into different dataframes for each year",
   "id": "a8cf6829ee56f82"
  },
  {
   "metadata": {},
   "cell_type": "code",
   "source": [
    "def read_year(year):\n",
    "    res = []\n",
    "\n",
    "    with pd.read_csv(\"all_years_problem_logs.csv\",chunksize=10**6) as read:\n",
    "        for chunk in tqdm(read):\n",
    "            res.append(chunk[chunk['academic_year'] == year])\n",
    "            \n",
    "    return pd.concat(res)"
   ],
   "id": "5e827e2e366b84ce",
   "outputs": [],
   "execution_count": null
  },
  {
   "metadata": {},
   "cell_type": "code",
   "source": [
    "if os.path.isfile('./Data/full_year/19-20_logs.csv'):\n",
    "    ay19_20 = pd.read_csv('./Data/full_year/19-20_logs.csv')\n",
    "else:\n",
    "    ay19_20 = read_year('19-20')\n",
    "    ay19_20.to_csv('./Data/full_year/19-20_logs.csv',index=False)"
   ],
   "id": "a14926012971ec47",
   "outputs": [],
   "execution_count": null
  },
  {
   "metadata": {},
   "cell_type": "code",
   "source": [
    "if os.path.isfile('./Data/full_year/20-21_logs.csv'):\n",
    "    ay20_21 = pd.read_csv('./Data/full_year/20-21_logs.csv')\n",
    "else:\n",
    "    ay20_21 = read_year('20-21')\n",
    "    ay20_21.to_csv('./Data/full_year/20-21_logs.csv',index=False)"
   ],
   "id": "eba2b58fc3d93105",
   "outputs": [],
   "execution_count": null
  },
  {
   "metadata": {},
   "cell_type": "code",
   "source": [
    "if os.path.isfile('./Data/full_year/21-22_logs.csv'):\n",
    "    ay21_22 = pd.read_csv('./Data/full_year/21-22_logs.csv')\n",
    "else:\n",
    "    ay21_22 = read_year('21-22')\n",
    "    ay21_22.to_csv('./Data/full_year/21-22_logs.csv',index=False)"
   ],
   "id": "98aabab1055f2f3b",
   "outputs": [],
   "execution_count": null
  },
  {
   "metadata": {},
   "cell_type": "code",
   "source": [
    "if os.path.isfile('./Data/full_year/22-23_logs.csv'):\n",
    "    ay22_23 = pd.read_csv('./Data/full_year/22-23_logs.csv')\n",
    "else:\n",
    "    ay22_23 = read_year('22-23')\n",
    "    ay22_23.to_csv('./Data/full_year/22-23_logs.csv',index=False)"
   ],
   "id": "e1e28972e8fbb6ce",
   "outputs": [],
   "execution_count": null
  },
  {
   "metadata": {},
   "cell_type": "code",
   "source": [
    "if os.path.isfile('./Data/full_year/23-24_logs.csv'):\n",
    "    ay23_24 = pd.read_csv('./Data/full_year/23-24_logs.csv')\n",
    "else:\n",
    "    ay23_24 = read_year('23-24')\n",
    "    ay23_24.to_csv('./Data/full_year/23-24_logs.csv',index=False)"
   ],
   "id": "7b7df69ddd796bb9",
   "outputs": [],
   "execution_count": null
  },
  {
   "metadata": {},
   "cell_type": "code",
   "source": [
    "y_dict = {\n",
    "    '19-20': ay19_20,\n",
    "    '20-21': ay20_21,\n",
    "    '21-22': ay21_22,\n",
    "    '22-23': ay22_23,\n",
    "    '23-24': ay23_24\n",
    "}"
   ],
   "id": "ea3553890ca16489",
   "outputs": [],
   "execution_count": null
  },
  {
   "metadata": {},
   "cell_type": "markdown",
   "source": "Summary Statistics for each academic year",
   "id": "11a5988a71153f14"
  },
  {
   "metadata": {},
   "cell_type": "code",
   "source": [
    "for key, val in y_dict.items():\n",
    "    print(\"Academic year \",key,':')\n",
    "    print(len(val.assignment_log_id.unique()),' unique assignment log ids')\n",
    "    print(len(val),' unique problem logs')\n",
    "    print(len(val.user_xid.unique()),' unique users')\n",
    "    print(len(val.skill_id.unique()),' unique skills')\n",
    "    print('Avg Correctness Value: ', val.discrete_score.mean())"
   ],
   "id": "5da60a5472e0a4b4",
   "outputs": [],
   "execution_count": null
  },
  {
   "metadata": {},
   "cell_type": "code",
   "source": "assignment_log_ids = pd.DataFrame(ay19_20.assignment_log_id.unique())",
   "id": "4b3f5c3aee0392dd",
   "outputs": [],
   "execution_count": null
  },
  {
   "metadata": {},
   "cell_type": "code",
   "source": "assignment_log_ids.sample(50000).to_numpy().reshape(-1)",
   "id": "f8f439fd7b5651f9",
   "outputs": [],
   "execution_count": null
  },
  {
   "metadata": {},
   "cell_type": "code",
   "source": [
    "for key, val in y_dict.items():\n",
    "    assignment_log_ids = pd.DataFrame(val.assignment_log_id.unique())\n",
    "    for i in tqdm(range(10)):\n",
    "        sample_log_ids = assignment_log_ids.sample(n=50000).to_numpy().reshape(-1)\n",
    "        sample = val[val['assignment_log_id'].isin(sample_log_ids)]\n",
    "        sample.to_csv(f'./Data/samples/{key}/sample{i+1}.csv', index=False)"
   ],
   "id": "ca4143595179af1",
   "outputs": [],
   "execution_count": null
  }
 ],
 "metadata": {
  "kernelspec": {
   "display_name": "Python 3",
   "language": "python",
   "name": "python3"
  },
  "language_info": {
   "codemirror_mode": {
    "name": "ipython",
    "version": 2
   },
   "file_extension": ".py",
   "mimetype": "text/x-python",
   "name": "python",
   "nbconvert_exporter": "python",
   "pygments_lexer": "ipython2",
   "version": "2.7.6"
  }
 },
 "nbformat": 4,
 "nbformat_minor": 5
}
