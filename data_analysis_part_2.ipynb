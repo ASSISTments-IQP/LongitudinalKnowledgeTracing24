{
 "cells": [
  {
   "cell_type": "code",
   "id": "initial_id",
   "metadata": {
    "collapsed": true
   },
   "source": [
    "import pandas as pd\n",
    "import json"
   ],
   "outputs": [],
   "execution_count": null
  },
  {
   "metadata": {},
   "cell_type": "code",
   "source": [
    "models = ['BKT', 'PFA', 'DKT', 'SAKT-KC', 'SAKT-E']\n",
    "years = ['19-20','20-21','21-22','22-23','23-24']\n",
    "sample_nums = range(1,11)\n",
    "res = []\n",
    "\n",
    "for mod in models:\n",
    "    for train_year in years:\n",
    "        train_idx = years.index(train_year)\n",
    "        if mod == 'BKT' or mod == 'PFA':\n",
    "            with open(f'./Data/third_round_data/{mod}_{train_year}.json') as myfile:\n",
    "                obj = json.load(myfile)\n",
    "                for s_num, eval_year_dict in obj.items():\n",
    "                    for eval_year, metrics in eval_year_dict.items():\n",
    "                        eval_idx = years.index(eval_year)\n",
    "                        years_between = eval_idx - train_idx\n",
    "                        res.append([mod, train_year, eval_year, s_num, years_between, metrics['auc'], metrics['ll'], metrics['f1']])\n",
    "        else:\n",
    "            for s in sample_nums:\n",
    "                with open(f'./Data/third_round_data/{mod}_{train_year}_{s}.json') as myfile:\n",
    "                    obj = json.load(myfile)\n",
    "                    for eval_year, metrics in obj.items():\n",
    "                        eval_idx = years.index(eval_year)\n",
    "                        years_between = eval_idx - train_idx\n",
    "                        res.append([mod, train_year, eval_year, s_num, years_between, metrics['auc'], metrics['ll'], metrics['f1']])\n",
    "                        \n",
    "df = pd.DataFrame(res,columns=['model','train_year','eval_year','sample_num','years_between','auc','ll','f1'])\n",
    "                    "
   ],
   "id": "d4bd66625eb0d3b7",
   "outputs": [],
   "execution_count": null
  },
  {
   "metadata": {},
   "cell_type": "code",
   "source": "df",
   "id": "8282054ae93b0796",
   "outputs": [],
   "execution_count": null
  },
  {
   "metadata": {},
   "cell_type": "code",
   "source": "df.to_csv('./Data/results_pt_3.csv')",
   "id": "817c219871b2c3f1",
   "outputs": [],
   "execution_count": null
  },
  {
   "metadata": {},
   "cell_type": "code",
   "source": "",
   "id": "f49239efc32ede9e",
   "outputs": [],
   "execution_count": null
  }
 ],
 "metadata": {
  "kernelspec": {
   "display_name": "Python 3",
   "language": "python",
   "name": "python3"
  },
  "language_info": {
   "codemirror_mode": {
    "name": "ipython",
    "version": 2
   },
   "file_extension": ".py",
   "mimetype": "text/x-python",
   "name": "python",
   "nbconvert_exporter": "python",
   "pygments_lexer": "ipython2",
   "version": "2.7.6"
  }
 },
 "nbformat": 4,
 "nbformat_minor": 5
}
