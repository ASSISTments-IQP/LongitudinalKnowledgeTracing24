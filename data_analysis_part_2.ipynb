{
 "cells": [
  {
   "cell_type": "code",
   "id": "initial_id",
   "metadata": {
    "collapsed": true,
    "ExecuteTime": {
     "end_time": "2025-01-24T14:44:21.056717Z",
     "start_time": "2025-01-24T14:44:21.053707Z"
    }
   },
   "source": [
    "import pandas as pd\n",
    "import json, os"
   ],
   "outputs": [],
   "execution_count": 45
  },
  {
   "metadata": {
    "ExecuteTime": {
     "end_time": "2025-01-24T14:44:21.243078Z",
     "start_time": "2025-01-24T14:44:21.180582Z"
    }
   },
   "cell_type": "code",
   "source": [
    "years = ['19-20','20-21','21-22','22-23','23-24']\n",
    "fold_nums = range(5)\n",
    "sample_nums = range(1,11)\n",
    "dkt_wy_dict = {}\n",
    "dkt_cy_dict = {}\n",
    "for y in years: # DKT\n",
    "\tdkt_wy_dict[y] = []\n",
    "\tfor f in fold_nums:\n",
    "\t\twith open(f'./Data/second_round_data/wy_DKT_{y}_{f}.json') as wyj:\n",
    "\t\t\tobj = json.load(wyj)\n",
    "\t\t\tdkt_wy_dict[y].append(obj[y][str(f)])\n",
    "\tif y != '23-24':\n",
    "\t\tdkt_cy_dict[y] = {}\n",
    "\t\tfor s in sample_nums:\n",
    "\t\t\twith open(f'./Data/second_round_data/cy_DKT_{y}_{s}.json') as cyj:\n",
    "\t\t\t\tobj = json.load(cyj)\n",
    "\t\t\t\tfor test_year, measurement in obj.items():\n",
    "\t\t\t\t\tif dkt_cy_dict[y].get(test_year) is None:\n",
    "\t\t\t\t\t\tdkt_cy_dict[y][test_year] = []\n",
    "\t\t\t\t\tdkt_cy_dict[y][test_year].append(measurement)"
   ],
   "id": "b8d3c258172ffd8d",
   "outputs": [],
   "execution_count": 46
  },
  {
   "metadata": {
    "ExecuteTime": {
     "end_time": "2025-01-24T14:44:21.277305Z",
     "start_time": "2025-01-24T14:44:21.246629Z"
    }
   },
   "cell_type": "code",
   "source": "models = ['BKT', 'PFA', 'SAKT-KC', 'SAKT-E']",
   "id": "d4bd66625eb0d3b7",
   "outputs": [],
   "execution_count": 47
  },
  {
   "metadata": {
    "ExecuteTime": {
     "end_time": "2025-01-24T14:44:21.303215Z",
     "start_time": "2025-01-24T14:44:21.295822Z"
    }
   },
   "cell_type": "code",
   "source": [
    "wy_dicts = {}\n",
    "cy_dicts = {}\n",
    "wy_dicts['DKT'] = dkt_wy_dict\n",
    "cy_dicts['DKT'] = dkt_cy_dict\n",
    "for model in models:\n",
    "    mod_cy_dict = {}\n",
    "    mod_wy_dict = {}\n",
    "    is_sakt = model == 'SAKT-KC' or model == 'SAKT-E'\n",
    "    for year in years:\n",
    "        with open(f'./Data/second_round_data/within_year_results_{model}_{year}.json') as wyj:\n",
    "            obj = json.load(wyj)\n",
    "            if is_sakt:\n",
    "                for key, val in obj.items():\n",
    "                    obj[key] = val[0]\n",
    "            mod_wy_dict[year] = obj\n",
    "        if year != '23-24':\n",
    "            with open(f'./Data/second_round_data/cross_year_results_{model}_{year}.json') as cyj:\n",
    "                obj = json.load(cyj)\n",
    "                if is_sakt:\n",
    "                    for key, val in obj.items():\n",
    "                        for k2, v2 in val.items():\n",
    "                            obj[key][k2] = v2[0]\n",
    "                mod_cy_dict[year] = obj\n",
    "\n",
    "    cy_dicts[model] = mod_cy_dict\n",
    "    wy_dicts[model] = mod_wy_dict"
   ],
   "id": "a568bcd729fa6d04",
   "outputs": [],
   "execution_count": 48
  },
  {
   "metadata": {
    "ExecuteTime": {
     "end_time": "2025-01-24T14:44:21.354052Z",
     "start_time": "2025-01-24T14:44:21.348087Z"
    }
   },
   "cell_type": "code",
   "source": [
    "redone_cy = {}\n",
    "for mod in models:\n",
    "    mod_cy = {}\n",
    "    for train_year in years:\n",
    "        if train_year == '23-24':\n",
    "            continue\n",
    "        mod_cy[train_year] = {}\n",
    "        for s in sample_nums:\n",
    "            for key, val in cy_dicts[mod][train_year][str(s)].items():\n",
    "                if key == train_year:\n",
    "                    continue\n",
    "                if mod_cy[train_year].get(key) is None:\n",
    "                    mod_cy[train_year][key] = []\n",
    "                mod_cy[train_year][key].append(val)\n",
    "    redone_cy[mod] = mod_cy"
   ],
   "id": "c96f0070360b2ea8",
   "outputs": [],
   "execution_count": 49
  },
  {
   "metadata": {
    "ExecuteTime": {
     "end_time": "2025-01-24T14:57:55.298396Z",
     "start_time": "2025-01-24T14:57:55.294726Z"
    }
   },
   "cell_type": "code",
   "source": [
    "redone_wy = {}\n",
    "for mod in models:\n",
    "    mod_wy = {}\n",
    "    for train_year in years:\n",
    "        if train_year == '23-24':\n",
    "            continue\n",
    "        mod_wy[train_year] = []\n",
    "        for key, val in wy_dicts[mod][train_year].items():\n",
    "                mod_wy[train_year].append(val)\n",
    "    redone_wy[mod] = mod_wy"
   ],
   "id": "a9331d62d7a71f86",
   "outputs": [],
   "execution_count": 60
  },
  {
   "metadata": {
    "ExecuteTime": {
     "end_time": "2025-01-24T15:06:27.139135Z",
     "start_time": "2025-01-24T15:06:27.135888Z"
    }
   },
   "cell_type": "code",
   "source": [
    "redone_cy['DKT'] = dkt_cy_dict\n",
    "redone_wy['DKT'] = dkt_wy_dict"
   ],
   "id": "24876bf99306aaba",
   "outputs": [],
   "execution_count": 67
  },
  {
   "metadata": {
    "ExecuteTime": {
     "end_time": "2025-01-24T14:57:58.788141Z",
     "start_time": "2025-01-24T14:57:58.782262Z"
    }
   },
   "cell_type": "code",
   "source": "redone_wy['BKT']",
   "id": "239f5c45c2c744bc",
   "outputs": [
    {
     "data": {
      "text/plain": [
       "{'19-20': [0.820314625060368,\n",
       "  0.8410271557317517,\n",
       "  0.827390473949196,\n",
       "  0.8267356404104393,\n",
       "  0.8203961597158222],\n",
       " '20-21': [0.8257860500862885,\n",
       "  0.8354595552311399,\n",
       "  0.8203527645532642,\n",
       "  0.8307305156459882,\n",
       "  0.8322254092962685],\n",
       " '21-22': [0.8749735078632531,\n",
       "  0.8672923017319332,\n",
       "  0.8684401559042085,\n",
       "  0.868923640218259,\n",
       "  0.8677677230571645],\n",
       " '22-23': [0.8279145765141375,\n",
       "  0.8416995225697905,\n",
       "  0.8301693062340875,\n",
       "  0.8274948921446882,\n",
       "  0.8171236811218481]}"
      ]
     },
     "execution_count": 61,
     "metadata": {},
     "output_type": "execute_result"
    }
   ],
   "execution_count": 61
  },
  {
   "metadata": {
    "ExecuteTime": {
     "end_time": "2025-01-24T15:06:32.953364Z",
     "start_time": "2025-01-24T15:06:32.940240Z"
    }
   },
   "cell_type": "code",
   "source": [
    "res = []\n",
    "for model, m_dict in redone_cy.items():\n",
    "    for train_y, train_y_dict in m_dict.items():\n",
    "        for eval_y, eval_list in train_y_dict.items():\n",
    "            train_idx = years.index(train_y)\n",
    "            eval_idx = years.index(eval_y)\n",
    "            years_between = eval_idx - train_idx\n",
    "            for auc in eval_list:\n",
    "                res.append([model, train_y, eval_y, years_between, auc])\n",
    "                \n",
    "                \n",
    "for model, m_dict in redone_wy.items():\n",
    "    for train_y, train_y_list in m_dict.items():\n",
    "        for auc in train_y_list:\n",
    "            res.append([model, train_y, train_y, 0, auc])\n",
    "            "
   ],
   "id": "3773e3fdd5011fe7",
   "outputs": [],
   "execution_count": 68
  },
  {
   "metadata": {
    "ExecuteTime": {
     "end_time": "2025-01-24T15:06:34.932582Z",
     "start_time": "2025-01-24T15:06:34.928082Z"
    }
   },
   "cell_type": "code",
   "source": "res_df = pd.DataFrame(res, columns=['model', 'train_year', 'eval_year', 'years_between_train_eval', 'auc'])",
   "id": "a02cf0e4d75229cd",
   "outputs": [],
   "execution_count": 69
  },
  {
   "metadata": {
    "ExecuteTime": {
     "end_time": "2025-01-24T16:35:43.442680Z",
     "start_time": "2025-01-24T16:35:43.435943Z"
    }
   },
   "cell_type": "code",
   "source": "res_df.to_csv('./Data/results_pt_2.csv')",
   "id": "817c219871b2c3f1",
   "outputs": [],
   "execution_count": 71
  }
 ],
 "metadata": {
  "kernelspec": {
   "display_name": "Python 3",
   "language": "python",
   "name": "python3"
  },
  "language_info": {
   "codemirror_mode": {
    "name": "ipython",
    "version": 2
   },
   "file_extension": ".py",
   "mimetype": "text/x-python",
   "name": "python",
   "nbconvert_exporter": "python",
   "pygments_lexer": "ipython2",
   "version": "2.7.6"
  }
 },
 "nbformat": 4,
 "nbformat_minor": 5
}
